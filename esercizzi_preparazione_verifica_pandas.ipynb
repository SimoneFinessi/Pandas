{
  "nbformat": 4,
  "nbformat_minor": 0,
  "metadata": {
    "colab": {
      "provenance": [],
      "include_colab_link": true
    },
    "kernelspec": {
      "name": "python3",
      "display_name": "Python 3"
    },
    "language_info": {
      "name": "python"
    }
  },
  "cells": [
    {
      "cell_type": "markdown",
      "metadata": {
        "id": "view-in-github",
        "colab_type": "text"
      },
      "source": [
        "<a href=\"https://colab.research.google.com/github/SimoneFinessi/Python/blob/main/esercizzi_preparazione_verifica_pandas.ipynb\" target=\"_parent\"><img src=\"https://colab.research.google.com/assets/colab-badge.svg\" alt=\"Open In Colab\"/></a>"
      ]
    },
    {
      "cell_type": "markdown",
      "source": [
        "##Pandas - esercizio 1"
      ],
      "metadata": {
        "id": "n0Lfk4hlIHyS"
      }
    },
    {
      "cell_type": "markdown",
      "source": [
        "Prendere in considerazione i dati presenti nel file winemag-data-130k-v2.json e scrivere le istruzioni necessarie per:"
      ],
      "metadata": {
        "id": "TRkfGLkjkELm"
      }
    },
    {
      "cell_type": "markdown",
      "source": [
        "1. caricare in un dataframe i dati presenti nel file"
      ],
      "metadata": {
        "id": "aevMoSsKkmB3"
      }
    },
    {
      "cell_type": "code",
      "source": [
        "from google.colab import drive\n",
        "import pandas as pd\n"
      ],
      "metadata": {
        "id": "8zOjNnLfkrHZ"
      },
      "execution_count": null,
      "outputs": []
    },
    {
      "cell_type": "code",
      "source": [
        "drive.mount('/content/drive')"
      ],
      "metadata": {
        "id": "hfrZox0hGrMB"
      },
      "execution_count": null,
      "outputs": []
    },
    {
      "cell_type": "code",
      "source": [
        "df=pd.read_json(\"/content/drive/MyDrive/Colab Notebooks/winemag-data-130k-v2.json\")"
      ],
      "metadata": {
        "id": "QKh4_PW9G8wg"
      },
      "execution_count": null,
      "outputs": []
    },
    {
      "cell_type": "code",
      "source": [
        "df"
      ],
      "metadata": {
        "id": "gndFKHXmHIOZ"
      },
      "execution_count": null,
      "outputs": []
    },
    {
      "cell_type": "markdown",
      "source": [
        "2. visualizzare i primi 10 record del file. Usare due modi"
      ],
      "metadata": {
        "id": "Iuzl-iCnkrhx"
      }
    },
    {
      "cell_type": "code",
      "source": [
        "df[:10]"
      ],
      "metadata": {
        "id": "9SFNxWAgkzIQ"
      },
      "execution_count": null,
      "outputs": []
    },
    {
      "cell_type": "code",
      "source": [
        "df.iloc[:10]"
      ],
      "metadata": {
        "id": "0VCHWFAPHZhD"
      },
      "execution_count": null,
      "outputs": []
    },
    {
      "cell_type": "code",
      "source": [
        "df.head(10)"
      ],
      "metadata": {
        "id": "MYE9vf_9Ht8c"
      },
      "execution_count": null,
      "outputs": []
    },
    {
      "cell_type": "markdown",
      "source": [
        "3. visualizzare gli ultimi 10 record del dataframe. Usare due modi."
      ],
      "metadata": {
        "id": "hzrtwivOkzqc"
      }
    },
    {
      "cell_type": "code",
      "source": [
        "df.tail(10)"
      ],
      "metadata": {
        "id": "hlp4abLOhzr9"
      },
      "execution_count": null,
      "outputs": []
    },
    {
      "cell_type": "code",
      "source": [
        "df[-10:]"
      ],
      "metadata": {
        "id": "1KNJBU2dIRWD"
      },
      "execution_count": null,
      "outputs": []
    },
    {
      "cell_type": "markdown",
      "source": [
        "4. visualizzare la colonna 'points'. Utilizzare due modi"
      ],
      "metadata": {
        "id": "-5FdxYV6lARr"
      }
    },
    {
      "cell_type": "code",
      "source": [
        "df.points"
      ],
      "metadata": {
        "id": "gHitOojolQN2"
      },
      "execution_count": null,
      "outputs": []
    },
    {
      "cell_type": "code",
      "source": [
        "df[\"points\"]"
      ],
      "metadata": {
        "id": "l_Vf-slLH7Zp"
      },
      "execution_count": null,
      "outputs": []
    },
    {
      "cell_type": "markdown",
      "source": [
        "5. visualizzare le colonne 'price' e 'title'"
      ],
      "metadata": {
        "id": "3BSP_qqKlQnv"
      }
    },
    {
      "cell_type": "code",
      "source": [
        "df[[\"price\",\"title\"]]"
      ],
      "metadata": {
        "id": "UDz_6RnHldOh"
      },
      "execution_count": null,
      "outputs": []
    },
    {
      "cell_type": "markdown",
      "source": [
        "6. visualizzare tutti i dati dei record che si trovano dalla posizione 1000 alla posizione 1010"
      ],
      "metadata": {
        "id": "Uq5PTeHZldvi"
      }
    },
    {
      "cell_type": "code",
      "source": [
        "df[1000:1011]"
      ],
      "metadata": {
        "id": "Bln3P0F1l2XF"
      },
      "execution_count": null,
      "outputs": []
    },
    {
      "cell_type": "markdown",
      "source": [
        "7. visualizzare le colonne 'price' e 'title' dei record che si trovano dalla posizione 1000 alla posizione 1010"
      ],
      "metadata": {
        "id": "gFgxVLOAl23O"
      }
    },
    {
      "cell_type": "code",
      "source": [
        "df[1000:1011][[\"price\",\"title\"]]"
      ],
      "metadata": {
        "id": "sFcAUCf2mPbm"
      },
      "execution_count": null,
      "outputs": []
    },
    {
      "cell_type": "markdown",
      "source": [
        "8. cambiare i punti del vino 'Nicosia 2013 Vulkà Bianco (Etna)' da 87 a 89"
      ],
      "metadata": {
        "id": "742qN3NimQBh"
      }
    },
    {
      "cell_type": "code",
      "source": [
        "df.loc[df.title.str.contains(\"Nicosia 2013 Vulk\"),\"points\"]=89"
      ],
      "metadata": {
        "id": "yQ7CtaLBmsU4"
      },
      "execution_count": null,
      "outputs": []
    },
    {
      "cell_type": "code",
      "source": [
        "df"
      ],
      "metadata": {
        "id": "CXrItSPDKAkc"
      },
      "execution_count": null,
      "outputs": []
    },
    {
      "cell_type": "markdown",
      "source": [
        "9. aumentare i punti del vino 'Quinta dos Avidagos 2011 Avidagos Red (Douro)' di 10 unità"
      ],
      "metadata": {
        "id": "J4BHlHf2msuB"
      }
    },
    {
      "cell_type": "code",
      "source": [
        "df.loc[df.title==\"Quinta dos Avidagos 2011 Avidagos Red (Douro)\",\"points\"]+=10"
      ],
      "metadata": {
        "id": "wrexqJqbm-iZ"
      },
      "execution_count": null,
      "outputs": []
    },
    {
      "cell_type": "markdown",
      "source": [
        "10. aumentare tutti i prezzi dei vini del 10%"
      ],
      "metadata": {
        "id": "RSg_BH6tm-9E"
      }
    },
    {
      "cell_type": "code",
      "source": [
        "df.price=df.price*1.1"
      ],
      "metadata": {
        "id": "J1pCT7VdnLDP"
      },
      "execution_count": null,
      "outputs": []
    },
    {
      "cell_type": "code",
      "source": [
        "df"
      ],
      "metadata": {
        "id": "cGDqmpX_L8h0"
      },
      "execution_count": null,
      "outputs": []
    },
    {
      "cell_type": "markdown",
      "source": [
        "11. contare il numero di vini italiani presenti nel datafrane"
      ],
      "metadata": {
        "id": "gqKcBOWmnL3P"
      }
    },
    {
      "cell_type": "code",
      "source": [
        "len(df[df.country==\"Italy\"])"
      ],
      "metadata": {
        "id": "gQIyxqN7nRPL",
        "colab": {
          "base_uri": "https://localhost:8080/"
        },
        "outputId": "a902127c-a4b1-4d48-9e80-8722e919e603"
      },
      "execution_count": null,
      "outputs": [
        {
          "output_type": "execute_result",
          "data": {
            "text/plain": [
              "19540"
            ]
          },
          "metadata": {},
          "execution_count": 53
        }
      ]
    },
    {
      "cell_type": "markdown",
      "source": [
        "12. trovare il prezzo del vino che costa di più"
      ],
      "metadata": {
        "id": "HAuLputWnRoO"
      }
    },
    {
      "cell_type": "code",
      "source": [
        "df.price.max()"
      ],
      "metadata": {
        "id": "wrQkhYxNnWV4",
        "colab": {
          "base_uri": "https://localhost:8080/"
        },
        "outputId": "b195ba5e-6dd6-4e23-f715-229699c14bf0"
      },
      "execution_count": null,
      "outputs": [
        {
          "output_type": "execute_result",
          "data": {
            "text/plain": [
              "3630.0000000000005"
            ]
          },
          "metadata": {},
          "execution_count": 49
        }
      ]
    },
    {
      "cell_type": "markdown",
      "source": [
        "13. trovare il prezzo del vino che costa di meno"
      ],
      "metadata": {
        "id": "MMbyTj7dnWy7"
      }
    },
    {
      "cell_type": "code",
      "source": [
        "df.price.min()"
      ],
      "metadata": {
        "id": "Uu_uv70Vnad0"
      },
      "execution_count": null,
      "outputs": []
    },
    {
      "cell_type": "markdown",
      "source": [
        "14. trovare il pezzo medio dei vini"
      ],
      "metadata": {
        "id": "kjr-QYD8na1C"
      }
    },
    {
      "cell_type": "code",
      "source": [
        "df.price.mean()"
      ],
      "metadata": {
        "id": "bvRfa4xpnd4y",
        "colab": {
          "base_uri": "https://localhost:8080/"
        },
        "outputId": "f1df2ded-a9d8-469d-85a5-79419a8b78f7"
      },
      "execution_count": null,
      "outputs": [
        {
          "output_type": "execute_result",
          "data": {
            "text/plain": [
              "38.89972804298409"
            ]
          },
          "metadata": {},
          "execution_count": 50
        }
      ]
    },
    {
      "cell_type": "markdown",
      "source": [
        "15. trovare il prezzo medio dei vini italiani, confrontarlo con il prezzo medio dei vini francesi e dire quali costano di più"
      ],
      "metadata": {
        "id": "vghM0Av1neZQ"
      }
    },
    {
      "cell_type": "code",
      "source": [
        "print(df[df.country==\"Italy\"][\"price\"].mean() if df[df.country==\"Italy\"][\"price\"].mean()>df[df.country==\"France\"][\"price\"].mean() else df[df.country==\"France\"][\"price\"].mean())"
      ],
      "metadata": {
        "id": "Otqo1IoPnrhb",
        "colab": {
          "base_uri": "https://localhost:8080/"
        },
        "outputId": "18b7047d-41c4-43d0-d6d5-0fab0eb5e997"
      },
      "execution_count": null,
      "outputs": [
        {
          "output_type": "stream",
          "name": "stdout",
          "text": [
            "41.139120162016205\n"
          ]
        }
      ]
    },
    {
      "cell_type": "code",
      "source": [
        "if df[df.country==\"Italy\"].max() > df[df.country==\"France\"].max():\n",
        "  print(df[df.country==\"Italy\"].max())\n",
        "else:\n",
        "   print(df[df.country==\"France\"].max())"
      ],
      "metadata": {
        "id": "0OQ9M7_LNiEk"
      },
      "execution_count": null,
      "outputs": []
    },
    {
      "cell_type": "markdown",
      "source": [
        "16. visualizzare i vini di cui non si conosce il prezzo"
      ],
      "metadata": {
        "id": "9PfaOOp0nsUc"
      }
    },
    {
      "cell_type": "code",
      "source": [
        "df[df.price.isnull()]"
      ],
      "metadata": {
        "id": "an7iCdxln5w5"
      },
      "execution_count": null,
      "outputs": []
    },
    {
      "cell_type": "markdown",
      "source": [
        "17. visualizzare i vini che hanno le parole 'tropical fruit' nella descrizione"
      ],
      "metadata": {
        "id": "-fmQg-juoPsh"
      }
    },
    {
      "cell_type": "code",
      "source": [
        "df[df[\"description\"].str.contains(\"tropical fruit\")]"
      ],
      "metadata": {
        "id": "dfL2bsx0onsW",
        "colab": {
          "base_uri": "https://localhost:8080/",
          "height": 641
        },
        "outputId": "564465b2-646f-4fab-df34-e04442d2f476"
      },
      "execution_count": null,
      "outputs": [
        {
          "output_type": "execute_result",
          "data": {
            "text/plain": [
              "        points                                              title  \\\n",
              "0           87                  Nicosia 2013 Vulkà Bianco  (Etna)   \n",
              "34          86       Envolve 2011 Sauvignon Blanc (Sonoma Valley)   \n",
              "43          86     Robert Hall 2011 Sauvignon Blanc (Paso Robles)   \n",
              "139         90  Kuentz-Bas 2007 Cuvée Jerémy Sélection de Grai...   \n",
              "151         91  Herdade Grande 2014 Gerações Colheita Seleccio...   \n",
              "...        ...                                                ...   \n",
              "129732      90                 Abeja 2015 Chardonnay (Washington)   \n",
              "129779      89     Chalk Hill 2010 Estate Chardonnay (Chalk Hill)   \n",
              "129783      89         Lone Birch 2011 Pinot Gris (Yakima Valley)   \n",
              "129916      91  Winkler-Hermaden 2006 Grauburgunder Reserve Gr...   \n",
              "129922      91  Sattlerhof 2006 Kranachberg Sauvignon Blanc (S...   \n",
              "\n",
              "                                              description       taster_name  \\\n",
              "0       Aromas include tropical fruit, broom, brimston...     Kerin O’Keefe   \n",
              "34      This shows a tart, green gooseberry flavor tha...              None   \n",
              "43      The clean, brisk mouthfeel gives this slightly...              None   \n",
              "139     Beautiful deep gold color. Intense, concentrat...              None   \n",
              "151     This bottling shows a rich, wood-aged wine, fu...        Roger Voss   \n",
              "...                                                   ...               ...   \n",
              "129732  This wine brings crystal clear aromas of candy...  Sean P. Sullivan   \n",
              "129779  Exceptionally ripe, this has notes of tropical...              None   \n",
              "129783  With balance and grip, this lightly effervesce...      Paul Gregutt   \n",
              "129916  Spicy, vanilla new wood aromas dominate this w...        Roger Voss   \n",
              "129922  Herbs, spices and green fruit aromas show the ...        Roger Voss   \n",
              "\n",
              "       taster_twitter_handle  price                              designation  \\\n",
              "0               @kerinokeefe    NaN                             Vulkà Bianco   \n",
              "34                      None   20.0                                     None   \n",
              "43                      None   14.0                                     None   \n",
              "139                     None  112.0  Cuvée Jerémy Sélection de Grains Nobles   \n",
              "151               @vossroger   30.0    Gerações Colheita Seleccionada Branco   \n",
              "...                      ...    ...                                      ...   \n",
              "129732         @wawinereport   40.0                                     None   \n",
              "129779                  None   48.0                                   Estate   \n",
              "129783           @paulgwine    13.0                                     None   \n",
              "129916            @vossroger   31.0                    Grauburgunder Reserve   \n",
              "129922            @vossroger   48.0                              Kranachberg   \n",
              "\n",
              "                 variety       region_1          region_2           province  \\\n",
              "0            White Blend           Etna              None  Sicily & Sardinia   \n",
              "34       Sauvignon Blanc  Sonoma Valley            Sonoma         California   \n",
              "43       Sauvignon Blanc    Paso Robles     Central Coast         California   \n",
              "139           Pinot Gris         Alsace              None             Alsace   \n",
              "151     Portuguese White           None              None         Alentejano   \n",
              "...                  ...            ...               ...                ...   \n",
              "129732        Chardonnay     Washington  Washington Other         Washington   \n",
              "129779        Chardonnay     Chalk Hill            Sonoma         California   \n",
              "129783        Pinot Gris  Yakima Valley   Columbia Valley         Washington   \n",
              "129916     Grauburgunder           None              None   Südoststeiermark   \n",
              "129922   Sauvignon Blanc           None              None      Südsteiermark   \n",
              "\n",
              "         country            winery  \n",
              "0          Italy           Nicosia  \n",
              "34            US           Envolve  \n",
              "43            US       Robert Hall  \n",
              "139       France        Kuentz-Bas  \n",
              "151     Portugal    Herdade Grande  \n",
              "...          ...               ...  \n",
              "129732        US             Abeja  \n",
              "129779        US        Chalk Hill  \n",
              "129783        US        Lone Birch  \n",
              "129916   Austria  Winkler-Hermaden  \n",
              "129922   Austria        Sattlerhof  \n",
              "\n",
              "[2291 rows x 13 columns]"
            ],
            "text/html": [
              "\n",
              "  <div id=\"df-faf66fbc-2b1a-4757-8c6e-46af2b084c9c\">\n",
              "    <div class=\"colab-df-container\">\n",
              "      <div>\n",
              "<style scoped>\n",
              "    .dataframe tbody tr th:only-of-type {\n",
              "        vertical-align: middle;\n",
              "    }\n",
              "\n",
              "    .dataframe tbody tr th {\n",
              "        vertical-align: top;\n",
              "    }\n",
              "\n",
              "    .dataframe thead th {\n",
              "        text-align: right;\n",
              "    }\n",
              "</style>\n",
              "<table border=\"1\" class=\"dataframe\">\n",
              "  <thead>\n",
              "    <tr style=\"text-align: right;\">\n",
              "      <th></th>\n",
              "      <th>points</th>\n",
              "      <th>title</th>\n",
              "      <th>description</th>\n",
              "      <th>taster_name</th>\n",
              "      <th>taster_twitter_handle</th>\n",
              "      <th>price</th>\n",
              "      <th>designation</th>\n",
              "      <th>variety</th>\n",
              "      <th>region_1</th>\n",
              "      <th>region_2</th>\n",
              "      <th>province</th>\n",
              "      <th>country</th>\n",
              "      <th>winery</th>\n",
              "    </tr>\n",
              "  </thead>\n",
              "  <tbody>\n",
              "    <tr>\n",
              "      <th>0</th>\n",
              "      <td>87</td>\n",
              "      <td>Nicosia 2013 Vulkà Bianco  (Etna)</td>\n",
              "      <td>Aromas include tropical fruit, broom, brimston...</td>\n",
              "      <td>Kerin O’Keefe</td>\n",
              "      <td>@kerinokeefe</td>\n",
              "      <td>NaN</td>\n",
              "      <td>Vulkà Bianco</td>\n",
              "      <td>White Blend</td>\n",
              "      <td>Etna</td>\n",
              "      <td>None</td>\n",
              "      <td>Sicily &amp; Sardinia</td>\n",
              "      <td>Italy</td>\n",
              "      <td>Nicosia</td>\n",
              "    </tr>\n",
              "    <tr>\n",
              "      <th>34</th>\n",
              "      <td>86</td>\n",
              "      <td>Envolve 2011 Sauvignon Blanc (Sonoma Valley)</td>\n",
              "      <td>This shows a tart, green gooseberry flavor tha...</td>\n",
              "      <td>None</td>\n",
              "      <td>None</td>\n",
              "      <td>20.0</td>\n",
              "      <td>None</td>\n",
              "      <td>Sauvignon Blanc</td>\n",
              "      <td>Sonoma Valley</td>\n",
              "      <td>Sonoma</td>\n",
              "      <td>California</td>\n",
              "      <td>US</td>\n",
              "      <td>Envolve</td>\n",
              "    </tr>\n",
              "    <tr>\n",
              "      <th>43</th>\n",
              "      <td>86</td>\n",
              "      <td>Robert Hall 2011 Sauvignon Blanc (Paso Robles)</td>\n",
              "      <td>The clean, brisk mouthfeel gives this slightly...</td>\n",
              "      <td>None</td>\n",
              "      <td>None</td>\n",
              "      <td>14.0</td>\n",
              "      <td>None</td>\n",
              "      <td>Sauvignon Blanc</td>\n",
              "      <td>Paso Robles</td>\n",
              "      <td>Central Coast</td>\n",
              "      <td>California</td>\n",
              "      <td>US</td>\n",
              "      <td>Robert Hall</td>\n",
              "    </tr>\n",
              "    <tr>\n",
              "      <th>139</th>\n",
              "      <td>90</td>\n",
              "      <td>Kuentz-Bas 2007 Cuvée Jerémy Sélection de Grai...</td>\n",
              "      <td>Beautiful deep gold color. Intense, concentrat...</td>\n",
              "      <td>None</td>\n",
              "      <td>None</td>\n",
              "      <td>112.0</td>\n",
              "      <td>Cuvée Jerémy Sélection de Grains Nobles</td>\n",
              "      <td>Pinot Gris</td>\n",
              "      <td>Alsace</td>\n",
              "      <td>None</td>\n",
              "      <td>Alsace</td>\n",
              "      <td>France</td>\n",
              "      <td>Kuentz-Bas</td>\n",
              "    </tr>\n",
              "    <tr>\n",
              "      <th>151</th>\n",
              "      <td>91</td>\n",
              "      <td>Herdade Grande 2014 Gerações Colheita Seleccio...</td>\n",
              "      <td>This bottling shows a rich, wood-aged wine, fu...</td>\n",
              "      <td>Roger Voss</td>\n",
              "      <td>@vossroger</td>\n",
              "      <td>30.0</td>\n",
              "      <td>Gerações Colheita Seleccionada Branco</td>\n",
              "      <td>Portuguese White</td>\n",
              "      <td>None</td>\n",
              "      <td>None</td>\n",
              "      <td>Alentejano</td>\n",
              "      <td>Portugal</td>\n",
              "      <td>Herdade Grande</td>\n",
              "    </tr>\n",
              "    <tr>\n",
              "      <th>...</th>\n",
              "      <td>...</td>\n",
              "      <td>...</td>\n",
              "      <td>...</td>\n",
              "      <td>...</td>\n",
              "      <td>...</td>\n",
              "      <td>...</td>\n",
              "      <td>...</td>\n",
              "      <td>...</td>\n",
              "      <td>...</td>\n",
              "      <td>...</td>\n",
              "      <td>...</td>\n",
              "      <td>...</td>\n",
              "      <td>...</td>\n",
              "    </tr>\n",
              "    <tr>\n",
              "      <th>129732</th>\n",
              "      <td>90</td>\n",
              "      <td>Abeja 2015 Chardonnay (Washington)</td>\n",
              "      <td>This wine brings crystal clear aromas of candy...</td>\n",
              "      <td>Sean P. Sullivan</td>\n",
              "      <td>@wawinereport</td>\n",
              "      <td>40.0</td>\n",
              "      <td>None</td>\n",
              "      <td>Chardonnay</td>\n",
              "      <td>Washington</td>\n",
              "      <td>Washington Other</td>\n",
              "      <td>Washington</td>\n",
              "      <td>US</td>\n",
              "      <td>Abeja</td>\n",
              "    </tr>\n",
              "    <tr>\n",
              "      <th>129779</th>\n",
              "      <td>89</td>\n",
              "      <td>Chalk Hill 2010 Estate Chardonnay (Chalk Hill)</td>\n",
              "      <td>Exceptionally ripe, this has notes of tropical...</td>\n",
              "      <td>None</td>\n",
              "      <td>None</td>\n",
              "      <td>48.0</td>\n",
              "      <td>Estate</td>\n",
              "      <td>Chardonnay</td>\n",
              "      <td>Chalk Hill</td>\n",
              "      <td>Sonoma</td>\n",
              "      <td>California</td>\n",
              "      <td>US</td>\n",
              "      <td>Chalk Hill</td>\n",
              "    </tr>\n",
              "    <tr>\n",
              "      <th>129783</th>\n",
              "      <td>89</td>\n",
              "      <td>Lone Birch 2011 Pinot Gris (Yakima Valley)</td>\n",
              "      <td>With balance and grip, this lightly effervesce...</td>\n",
              "      <td>Paul Gregutt</td>\n",
              "      <td>@paulgwine</td>\n",
              "      <td>13.0</td>\n",
              "      <td>None</td>\n",
              "      <td>Pinot Gris</td>\n",
              "      <td>Yakima Valley</td>\n",
              "      <td>Columbia Valley</td>\n",
              "      <td>Washington</td>\n",
              "      <td>US</td>\n",
              "      <td>Lone Birch</td>\n",
              "    </tr>\n",
              "    <tr>\n",
              "      <th>129916</th>\n",
              "      <td>91</td>\n",
              "      <td>Winkler-Hermaden 2006 Grauburgunder Reserve Gr...</td>\n",
              "      <td>Spicy, vanilla new wood aromas dominate this w...</td>\n",
              "      <td>Roger Voss</td>\n",
              "      <td>@vossroger</td>\n",
              "      <td>31.0</td>\n",
              "      <td>Grauburgunder Reserve</td>\n",
              "      <td>Grauburgunder</td>\n",
              "      <td>None</td>\n",
              "      <td>None</td>\n",
              "      <td>Südoststeiermark</td>\n",
              "      <td>Austria</td>\n",
              "      <td>Winkler-Hermaden</td>\n",
              "    </tr>\n",
              "    <tr>\n",
              "      <th>129922</th>\n",
              "      <td>91</td>\n",
              "      <td>Sattlerhof 2006 Kranachberg Sauvignon Blanc (S...</td>\n",
              "      <td>Herbs, spices and green fruit aromas show the ...</td>\n",
              "      <td>Roger Voss</td>\n",
              "      <td>@vossroger</td>\n",
              "      <td>48.0</td>\n",
              "      <td>Kranachberg</td>\n",
              "      <td>Sauvignon Blanc</td>\n",
              "      <td>None</td>\n",
              "      <td>None</td>\n",
              "      <td>Südsteiermark</td>\n",
              "      <td>Austria</td>\n",
              "      <td>Sattlerhof</td>\n",
              "    </tr>\n",
              "  </tbody>\n",
              "</table>\n",
              "<p>2291 rows × 13 columns</p>\n",
              "</div>\n",
              "      <button class=\"colab-df-convert\" onclick=\"convertToInteractive('df-faf66fbc-2b1a-4757-8c6e-46af2b084c9c')\"\n",
              "              title=\"Convert this dataframe to an interactive table.\"\n",
              "              style=\"display:none;\">\n",
              "        \n",
              "  <svg xmlns=\"http://www.w3.org/2000/svg\" height=\"24px\"viewBox=\"0 0 24 24\"\n",
              "       width=\"24px\">\n",
              "    <path d=\"M0 0h24v24H0V0z\" fill=\"none\"/>\n",
              "    <path d=\"M18.56 5.44l.94 2.06.94-2.06 2.06-.94-2.06-.94-.94-2.06-.94 2.06-2.06.94zm-11 1L8.5 8.5l.94-2.06 2.06-.94-2.06-.94L8.5 2.5l-.94 2.06-2.06.94zm10 10l.94 2.06.94-2.06 2.06-.94-2.06-.94-.94-2.06-.94 2.06-2.06.94z\"/><path d=\"M17.41 7.96l-1.37-1.37c-.4-.4-.92-.59-1.43-.59-.52 0-1.04.2-1.43.59L10.3 9.45l-7.72 7.72c-.78.78-.78 2.05 0 2.83L4 21.41c.39.39.9.59 1.41.59.51 0 1.02-.2 1.41-.59l7.78-7.78 2.81-2.81c.8-.78.8-2.07 0-2.86zM5.41 20L4 18.59l7.72-7.72 1.47 1.35L5.41 20z\"/>\n",
              "  </svg>\n",
              "      </button>\n",
              "      \n",
              "  <style>\n",
              "    .colab-df-container {\n",
              "      display:flex;\n",
              "      flex-wrap:wrap;\n",
              "      gap: 12px;\n",
              "    }\n",
              "\n",
              "    .colab-df-convert {\n",
              "      background-color: #E8F0FE;\n",
              "      border: none;\n",
              "      border-radius: 50%;\n",
              "      cursor: pointer;\n",
              "      display: none;\n",
              "      fill: #1967D2;\n",
              "      height: 32px;\n",
              "      padding: 0 0 0 0;\n",
              "      width: 32px;\n",
              "    }\n",
              "\n",
              "    .colab-df-convert:hover {\n",
              "      background-color: #E2EBFA;\n",
              "      box-shadow: 0px 1px 2px rgba(60, 64, 67, 0.3), 0px 1px 3px 1px rgba(60, 64, 67, 0.15);\n",
              "      fill: #174EA6;\n",
              "    }\n",
              "\n",
              "    [theme=dark] .colab-df-convert {\n",
              "      background-color: #3B4455;\n",
              "      fill: #D2E3FC;\n",
              "    }\n",
              "\n",
              "    [theme=dark] .colab-df-convert:hover {\n",
              "      background-color: #434B5C;\n",
              "      box-shadow: 0px 1px 3px 1px rgba(0, 0, 0, 0.15);\n",
              "      filter: drop-shadow(0px 1px 2px rgba(0, 0, 0, 0.3));\n",
              "      fill: #FFFFFF;\n",
              "    }\n",
              "  </style>\n",
              "\n",
              "      <script>\n",
              "        const buttonEl =\n",
              "          document.querySelector('#df-faf66fbc-2b1a-4757-8c6e-46af2b084c9c button.colab-df-convert');\n",
              "        buttonEl.style.display =\n",
              "          google.colab.kernel.accessAllowed ? 'block' : 'none';\n",
              "\n",
              "        async function convertToInteractive(key) {\n",
              "          const element = document.querySelector('#df-faf66fbc-2b1a-4757-8c6e-46af2b084c9c');\n",
              "          const dataTable =\n",
              "            await google.colab.kernel.invokeFunction('convertToInteractive',\n",
              "                                                     [key], {});\n",
              "          if (!dataTable) return;\n",
              "\n",
              "          const docLinkHtml = 'Like what you see? Visit the ' +\n",
              "            '<a target=\"_blank\" href=https://colab.research.google.com/notebooks/data_table.ipynb>data table notebook</a>'\n",
              "            + ' to learn more about interactive tables.';\n",
              "          element.innerHTML = '';\n",
              "          dataTable['output_type'] = 'display_data';\n",
              "          await google.colab.output.renderOutput(dataTable, element);\n",
              "          const docLink = document.createElement('div');\n",
              "          docLink.innerHTML = docLinkHtml;\n",
              "          element.appendChild(docLink);\n",
              "        }\n",
              "      </script>\n",
              "    </div>\n",
              "  </div>\n",
              "  "
            ]
          },
          "metadata": {},
          "execution_count": 9
        }
      ]
    },
    {
      "cell_type": "markdown",
      "source": [
        "18. caricare in un nuovo dataframe l'elenco completo dei vini italiani che hanno ottenuto un punteggio compreso tra 82 e 85 punti (estremi esclusi). Visualizzare poi il nuovo dataframe facendo in modo che l'utente possa vedere tutti i vini"
      ],
      "metadata": {
        "id": "e8Q0pcHOooFB"
      }
    },
    {
      "cell_type": "code",
      "source": [
        "id=df[(df[df.points<=85][\"country\"]==\"Italy\") & (df[df.points>=82][\"country\"]==\"Italy\")]\n",
        "id"
      ],
      "metadata": {
        "id": "brbIlh1Lo9-j"
      },
      "execution_count": null,
      "outputs": []
    }
  ]
}