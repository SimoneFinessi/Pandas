{
  "nbformat": 4,
  "nbformat_minor": 0,
  "metadata": {
    "colab": {
      "provenance": [],
      "collapsed_sections": [],
      "include_colab_link": true
    },
    "kernelspec": {
      "name": "python3",
      "display_name": "Python 3"
    },
    "language_info": {
      "name": "python"
    }
  },
  "cells": [
    {
      "cell_type": "markdown",
      "metadata": {
        "id": "view-in-github",
        "colab_type": "text"
      },
      "source": [
        "<a href=\"https://colab.research.google.com/github/SimoneFinessi/Python/blob/main/Dizionari.ipynb\" target=\"_parent\"><img src=\"https://colab.research.google.com/assets/colab-badge.svg\" alt=\"Open In Colab\"/></a>"
      ]
    },
    {
      "cell_type": "markdown",
      "source": [
        "#Dizionari\n",
        "da https://www.w3schools.com/python/python_dictionaries.asp"
      ],
      "metadata": {
        "id": "YXIGwkL_N-w2"
      }
    },
    {
      "cell_type": "markdown",
      "source": [
        "I Dizionari sono collezioni ordinate, utilizzate per registrare serie di coppie di valori, formate da una chiave (Key) e un valore (Value)."
      ],
      "metadata": {
        "id": "r8THPYSqOSfg"
      }
    },
    {
      "cell_type": "code",
      "execution_count": null,
      "metadata": {
        "colab": {
          "base_uri": "https://localhost:8080/"
        },
        "id": "nDDWFMCGIJO0",
        "outputId": "2fb1699b-b157-4329-a721-f53a453b87bc"
      },
      "outputs": [
        {
          "output_type": "stream",
          "name": "stdout",
          "text": [
            "{'genere': 'maschio', 'età': '15', 'altezza': 200}\n"
          ]
        }
      ],
      "source": [
        "#Esempio\n",
        "carlo = {\n",
        "    \"genere\":\"maschio\",\n",
        "    \"età\":15,\n",
        "    \"altezza\":200\n",
        "}\n",
        "print(carlo)"
      ]
    },
    {
      "cell_type": "markdown",
      "source": [
        "Gli elementi all'interno dei dizionari sono ordinati, modificabili e non consentono duplicati."
      ],
      "metadata": {
        "id": "bW9ZbTJgP14h"
      }
    },
    {
      "cell_type": "code",
      "source": [
        "#Esempio\n",
        "carlo = {\n",
        "    \"genere\":\"femmina\",\n",
        "    \"genere\":\"maschio\",\n",
        "    \"età\":15,\n",
        "    \"altezza\":200\n",
        "}\n",
        "\n",
        "#La chiave \"genere\" ripetendosi 2 volte, verrà presa in considerazione solo l'ultima.\n",
        "\n",
        "print(carlo)"
      ],
      "metadata": {
        "colab": {
          "base_uri": "https://localhost:8080/"
        },
        "id": "N6yqzoZcQAVL",
        "outputId": "fa7a0bde-32c4-421f-84ea-617afb140caf"
      },
      "execution_count": null,
      "outputs": [
        {
          "output_type": "stream",
          "name": "stdout",
          "text": [
            "{'genere': 'maschio', 'età': '15', 'altezza': 200}\n"
          ]
        }
      ]
    },
    {
      "cell_type": "code",
      "source": [
        "#Esempio\n",
        "carlo = {\n",
        "    \"genere\":\"maschio\",\n",
        "    \"età\":15,\n",
        "    \"altezza\":200\n",
        "}\n",
        "\n",
        "#Trattandosi di una collezione modificabile, possono essere aggiunti nuovi elementi\n",
        "carlo.update({\"cognome\":\"Borgheresi\"})\n",
        "carlo[\"capelli\"] = \"neri\"\n",
        "\n",
        "#Possono essere modificati\n",
        "carlo[\"genere\"] = \"femmina\"\n",
        "\n",
        "#Possono essere rimossi\n",
        "carlo.pop(\"età\")\n",
        "\n",
        "print(carlo)"
      ],
      "metadata": {
        "colab": {
          "base_uri": "https://localhost:8080/"
        },
        "id": "-1w-WihFSl3a",
        "outputId": "7e40da0f-f619-4111-9074-e25ff4ac5dd5"
      },
      "execution_count": null,
      "outputs": [
        {
          "output_type": "stream",
          "name": "stdout",
          "text": [
            "{'genere': 'femmina', 'altezza': 200, 'cognome': 'Borgheresi', 'capelli': 'neri'}\n"
          ]
        }
      ]
    },
    {
      "cell_type": "markdown",
      "source": [
        "Dizionari Nidificati - Nested Dictionaries"
      ],
      "metadata": {
        "id": "pevffdq1WcRY"
      }
    },
    {
      "cell_type": "code",
      "source": [
        "#Un dizionario può contenere altri dizionari\n",
        "\n",
        "famiglia = {\n",
        "    \"figlio0\" : {\n",
        "        \"nome\" : \"carlo\",\n",
        "        \"età\" : 15,\n",
        "        \"altezza\":200\n",
        "    },\n",
        "    \"figlio1\" : {\n",
        "            \"nome\" : \"gianni\",\n",
        "            \"età\" : 12,\n",
        "            \"altezza\":150\n",
        "        },\n",
        "}\n",
        "\n",
        "print(famiglia)\n",
        "\n",
        "#Puoi anche creare dei Dizionari formati da altri già esistenti\n",
        "\n",
        "figlio0 = {\n",
        "    \"nome\" : \"carlo\",\n",
        "    \"età\":15,\n",
        "    \"altezza\":200\n",
        "}\n",
        "\n",
        "figlio1 = {\n",
        "    \"nome\" : \"gianni\",\n",
        "    \"età\":12,\n",
        "    \"altezza\":150\n",
        "}\n",
        "\n",
        "famiglia = {\n",
        "    \"figlio0\" : figlio0,\n",
        "    \"figlio1\" : figlio1\n",
        "}\n",
        "\n",
        "\n",
        "print(famiglia)"
      ],
      "metadata": {
        "colab": {
          "base_uri": "https://localhost:8080/"
        },
        "id": "64vppF3PpRAn",
        "outputId": "4443b633-7d40-446f-ff57-edb0189f3b11"
      },
      "execution_count": null,
      "outputs": [
        {
          "output_type": "stream",
          "name": "stdout",
          "text": [
            "{'figlio0': {'nome': 'carlo', 'età': 15, 'altezza': 200}, 'figlio1': {'nome': 'gianni', 'età': 12, 'altezza': 150}}\n",
            "{'figlio0': {'nome': 'carlo', 'età': 15, 'altezza': 200}, 'figlio1': {'nome': 'gianni', 'età': 12, 'altezza': 150}}\n"
          ]
        }
      ]
    },
    {
      "cell_type": "markdown",
      "source": [
        "#Loop con i Dizionari\n",
        "da https://www.w3schools.com/python/python_dictionaries_loop.asp"
      ],
      "metadata": {
        "id": "6Y4p9e0sWixs"
      }
    },
    {
      "cell_type": "code",
      "source": [
        "#Ecco un elenco di for loops per visualizzare in un altro modo i \n",
        "\n",
        "carlo = {\n",
        "    \"genere\":\"maschio\",\n",
        "    \"età\":15,\n",
        "    \"altezza\":200\n",
        "}\n",
        "\n",
        "#Per visualizzare tutte le Chiavi\n",
        "\n",
        "for key in carlo:\n",
        "  print(key)\n",
        "\n",
        "#Oppure\n",
        "\n",
        "for key in carlo.keys():\n",
        "  print(key)"
      ],
      "metadata": {
        "id": "4E0iA6J4Wgt8"
      },
      "execution_count": null,
      "outputs": []
    },
    {
      "cell_type": "code",
      "source": [
        "#Per visualizzare tutti i Valori\n",
        "\n",
        "for key in carlo:\n",
        "  print(carlo[key])\n",
        "\n",
        "#Oppure\n",
        "\n",
        "for value in carlo.values():\n",
        "  print(value)"
      ],
      "metadata": {
        "colab": {
          "base_uri": "https://localhost:8080/"
        },
        "id": "uAyG4YdZYCdn",
        "outputId": "2207f206-f151-4da3-f607-19439e2cec09"
      },
      "execution_count": null,
      "outputs": [
        {
          "output_type": "stream",
          "name": "stdout",
          "text": [
            "maschio\n",
            "15\n",
            "200\n",
            "maschio\n",
            "15\n",
            "200\n"
          ]
        }
      ]
    },
    {
      "cell_type": "code",
      "source": [
        "#Per visualizzare tutte le coppie Chiave-Valore\n",
        "\n",
        "for key, value in carlo.items():\n",
        "  print(key, value)"
      ],
      "metadata": {
        "id": "5rhN_aaQYDxb"
      },
      "execution_count": null,
      "outputs": []
    },
    {
      "cell_type": "markdown",
      "source": [
        "#Metodi\n",
        "da https://www.w3schools.com/python/python_dictionaries_methods.asp"
      ],
      "metadata": {
        "id": "ipLNR0X5Xfv6"
      }
    },
    {
      "cell_type": "markdown",
      "source": [
        "clear()"
      ],
      "metadata": {
        "id": "RZH9o_PkneKF"
      }
    },
    {
      "cell_type": "code",
      "source": [
        "#Rimuove tutti gli elementi all'interno di un Dizionario\n",
        "\n",
        "LuigiXVI = {\n",
        "    \"genere\":\"maschio\",\n",
        "    \"età\":38\n",
        "}\n",
        "\n",
        "LuigiXVI.clear()\n",
        "print(LuigiXVI)"
      ],
      "metadata": {
        "colab": {
          "base_uri": "https://localhost:8080/"
        },
        "id": "geOu2L5XnduZ",
        "outputId": "56ed1703-1556-4222-d56e-61eee0d88498"
      },
      "execution_count": null,
      "outputs": [
        {
          "output_type": "stream",
          "name": "stdout",
          "text": [
            "{}\n"
          ]
        }
      ]
    },
    {
      "cell_type": "markdown",
      "source": [
        "copy()"
      ],
      "metadata": {
        "id": "ZjjYATHYpE-1"
      }
    },
    {
      "cell_type": "code",
      "source": [
        "#Copia gli elementi di un Dizionario in un altro\n",
        "\n",
        "fifa22 = {\n",
        "    \"sviluppo\":\"EA Sports\",\n",
        "    \"genere\":\"Calcio\",\n",
        "    \"prezzo\":\"70€\" \n",
        "}\n",
        "\n",
        "fifa23 = fifa22.copy()\n",
        "print(fifa23)"
      ],
      "metadata": {
        "id": "m28vqGVyXkkh",
        "colab": {
          "base_uri": "https://localhost:8080/"
        },
        "outputId": "7e58461b-d28b-4b8f-809c-f9e7fc445e7f"
      },
      "execution_count": null,
      "outputs": [
        {
          "output_type": "stream",
          "name": "stdout",
          "text": [
            "{'sviluppo': 'EA Sports', 'genere': 'Calcio', 'prezzo': '70€'}\n"
          ]
        }
      ]
    },
    {
      "cell_type": "markdown",
      "source": [
        "fromkeys()"
      ],
      "metadata": {
        "id": "Usj_IUoDpS4x"
      }
    },
    {
      "cell_type": "code",
      "source": [
        "#Assegna ad ogni chiave un valore uguale\n",
        "#Le chiavi sono prese da una tupla e il valore da una seconda varibile\n",
        "\n",
        "key = (\"autostima\", \"motivazione\", \"felicità\")\n",
        "value = 0\n",
        "\n",
        "vita = dict.fromkeys(key, value)\n",
        "print(vita)\n"
      ],
      "metadata": {
        "colab": {
          "base_uri": "https://localhost:8080/"
        },
        "id": "cXRMnpbdpSzE",
        "outputId": "4ceb355c-6759-4b86-ee7e-59e0f844f055"
      },
      "execution_count": null,
      "outputs": [
        {
          "output_type": "stream",
          "name": "stdout",
          "text": [
            "{'autostima': (7, 8, 9), 'motivazione': (7, 8, 9), 'felicità': (7, 8, 9)}\n"
          ]
        }
      ]
    },
    {
      "cell_type": "markdown",
      "source": [
        "get()"
      ],
      "metadata": {
        "id": "CqZOSAEPpSs9"
      }
    },
    {
      "cell_type": "code",
      "source": [
        "#Prende il valore associato alla chiave specificata\n",
        "\n",
        "carlo = {\n",
        "    \"genere\":\"maschio\",\n",
        "    \"età\":15,\n",
        "    \"altezza\":200\n",
        "}\n",
        "\n",
        "centimetri = carlo.get('altezza')\n",
        "print(centimetri)\n",
        "\n",
        "#Prende anche il valore di un elemento che non è presente nella lista\n",
        "\n",
        "fidanzata = carlo.get('fidanzata')\n",
        "print(fidanzata)\n",
        "print(carlo)"
      ],
      "metadata": {
        "colab": {
          "base_uri": "https://localhost:8080/"
        },
        "id": "Dapxx67apSnI",
        "outputId": "c28b4dfd-504b-4456-d7f5-dd06194743b6"
      },
      "execution_count": null,
      "outputs": [
        {
          "output_type": "stream",
          "name": "stdout",
          "text": [
            "200\n",
            "None\n",
            "{'genere': 'maschio', 'età': 15, 'altezza': 200}\n"
          ]
        }
      ]
    },
    {
      "cell_type": "markdown",
      "source": [
        "items()"
      ],
      "metadata": {
        "id": "fxLbRNnypShc"
      }
    },
    {
      "cell_type": "code",
      "source": [
        "#Restituisce un view object che contiene come lista le coppie di chiave-valore in un Dizionario\n",
        "\n",
        "carlo = {\n",
        "    \"genere\":\"maschio\",\n",
        "    \"età\":15,\n",
        "    \"altezza\":200\n",
        "}\n",
        "\n",
        "studente1 = carlo.items()\n",
        "print(studente1)\n"
      ],
      "metadata": {
        "colab": {
          "base_uri": "https://localhost:8080/"
        },
        "id": "Y6zYBRXMpSb7",
        "outputId": "2d28a468-6aa7-4f26-bdfb-682e6f8c4e99"
      },
      "execution_count": null,
      "outputs": [
        {
          "output_type": "stream",
          "name": "stdout",
          "text": [
            "dict_items([('genere', 'maschio'), ('età', 15), ('altezza', 200)])\n"
          ]
        }
      ]
    },
    {
      "cell_type": "code",
      "source": [
        "#Quando un elemento all'interno del Dizionario cambia valore, cambia anche nella nuova variabile\n",
        "\n",
        "carlo = {\n",
        "    \"genere\":\"maschio\",\n",
        "    \"età\":15,\n",
        "    \"altezza\":200\n",
        "}\n",
        "\n",
        "studente1 = carlo.items()\n",
        "print(studente1)\n",
        "\n",
        "carlo['età'] = 16\n",
        "print(studente1)"
      ],
      "metadata": {
        "colab": {
          "base_uri": "https://localhost:8080/"
        },
        "id": "JrvLfiWwxk9C",
        "outputId": "e351b851-cdbc-4a36-80a2-93f3c53c9ce3"
      },
      "execution_count": null,
      "outputs": [
        {
          "output_type": "stream",
          "name": "stdout",
          "text": [
            "dict_items([('genere', 'maschio'), ('età', 15), ('altezza', 200)])\n",
            "dict_items([('genere', 'maschio'), ('età', 16), ('altezza', 200)])\n"
          ]
        }
      ]
    },
    {
      "cell_type": "markdown",
      "source": [
        "keys()"
      ],
      "metadata": {
        "id": "JTHihs1xpSUd"
      }
    },
    {
      "cell_type": "code",
      "source": [
        "#Restituisce un view object che contiene come lista le chiavi in un Dizionario\n",
        "\n",
        "carlo = {\n",
        "    \"genere\":\"maschio\",\n",
        "    \"età\":15,\n",
        "    \"altezza\":200\n",
        "}\n",
        "\n",
        "umano = carlo.keys()\n",
        "print(umano)\n",
        "\n",
        "#Riflette i cambiamenti\n",
        "\n",
        "carlo['capelli'] = 'neri'\n",
        "print(umano)"
      ],
      "metadata": {
        "colab": {
          "base_uri": "https://localhost:8080/"
        },
        "id": "CD9N1TzwpSOx",
        "outputId": "36579637-5321-4016-c928-1f62dc698e92"
      },
      "execution_count": null,
      "outputs": [
        {
          "output_type": "stream",
          "name": "stdout",
          "text": [
            "dict_keys(['genere', 'età', 'altezza'])\n",
            "dict_keys(['genere', 'età', 'altezza', 'capelli'])\n"
          ]
        }
      ]
    },
    {
      "cell_type": "markdown",
      "source": [
        "values()"
      ],
      "metadata": {
        "id": "NLXngcuqAH0i"
      }
    },
    {
      "cell_type": "code",
      "source": [
        "#Restituisce un view object che contiene come lista i valori in un Dizionario\n",
        "\n",
        "carlo = {\n",
        "    \"genere\":\"maschio\",\n",
        "    \"età\":15,\n",
        "    \"altezza\":200\n",
        "}\n",
        "\n",
        "decontensto = carlo.values()\n",
        "print(decontensto)\n"
      ],
      "metadata": {
        "colab": {
          "base_uri": "https://localhost:8080/"
        },
        "id": "gp9E3QzgAIE7",
        "outputId": "44d48bdc-8d82-4c3e-86f3-a8dae5a8096f"
      },
      "execution_count": null,
      "outputs": [
        {
          "output_type": "stream",
          "name": "stdout",
          "text": [
            "dict_values(['maschio', 15, 200])\n"
          ]
        }
      ]
    },
    {
      "cell_type": "markdown",
      "source": [
        "pop()"
      ],
      "metadata": {
        "id": "0x2lS3f7pSJQ"
      }
    },
    {
      "cell_type": "code",
      "source": [
        "#Rimuove una chiave e il suo valore dal Dizionario\n",
        "\n",
        "carlo = {\n",
        "    \"genere\":\"maschio\",\n",
        "    \"età\":15,\n",
        "    \"altezza\":200\n",
        "}\n",
        "\n",
        "carlo.pop('genere')\n",
        "print(carlo)"
      ],
      "metadata": {
        "colab": {
          "base_uri": "https://localhost:8080/"
        },
        "id": "5fErBMT2pSCl",
        "outputId": "f1b4cc2f-43f2-4cf2-a289-45ac9732a3a8"
      },
      "execution_count": null,
      "outputs": [
        {
          "output_type": "stream",
          "name": "stdout",
          "text": [
            "{'età': 15, 'altezza': 200}\n"
          ]
        }
      ]
    },
    {
      "cell_type": "markdown",
      "source": [
        "popitem()"
      ],
      "metadata": {
        "id": "j9G0cSVUpR7H"
      }
    },
    {
      "cell_type": "code",
      "source": [
        "#Rimuove l'ultimo elemento aggiunto e restituisce un view object contenente esso \n",
        "\n",
        "carlo = {\n",
        "    \"genere\":\"maschio\",\n",
        "    \"età\":15,\n",
        "    \"altezza\":200\n",
        "}\n",
        "\n",
        "carlo.popitem()\n",
        "print(carlo)\n",
        "\n",
        "cestino = carlo.popitem()\n",
        "print(cestino)"
      ],
      "metadata": {
        "colab": {
          "base_uri": "https://localhost:8080/"
        },
        "id": "82bFxjs2pRvu",
        "outputId": "40908850-cce6-495a-c341-e4e0ab298b8f"
      },
      "execution_count": null,
      "outputs": [
        {
          "output_type": "stream",
          "name": "stdout",
          "text": [
            "{'genere': 'maschio', 'età': 15}\n",
            "('età', 15)\n"
          ]
        }
      ]
    },
    {
      "cell_type": "markdown",
      "source": [
        "setdefault()"
      ],
      "metadata": {
        "id": "xYiXYi4YpOpo"
      }
    },
    {
      "cell_type": "code",
      "source": [
        "#Restituisce il valore associato alla chiave specificata\n",
        "\n",
        "carlo = {\n",
        "    \"genere\":\"maschio\",\n",
        "    \"età\":15,\n",
        "    \"altezza\":200\n",
        "}\n",
        "\n",
        "vecchiaia = carlo.setdefault('età')\n",
        "print(vecchiaia)\n",
        "\n",
        "vecchiaia = carlo.setdefault('capelli')\n",
        "print(vecchiaia)"
      ],
      "metadata": {
        "colab": {
          "base_uri": "https://localhost:8080/"
        },
        "id": "V5K1qn0lpP0U",
        "outputId": "6e5f3639-6963-47b9-e93d-079b56d8375e"
      },
      "execution_count": null,
      "outputs": [
        {
          "output_type": "stream",
          "name": "stdout",
          "text": [
            "15\n",
            "None\n"
          ]
        }
      ]
    },
    {
      "cell_type": "markdown",
      "source": [
        "esercizion.Svogliono memorizzare le informazioni riguardanti alcune nazzioni dell'unione europea. di ogni nazion esi vogliono memorizzare il nome, la capitale,la superficie e la popolazione.\n",
        "caricare le informazioni in una struttura dati ritenuta piu opportuna.\n",
        "scrivere poi il codice per avere le seguenti informazioni."
      ],
      "metadata": {
        "id": "Dk5AlDVDve4N"
      }
    },
    {
      "cell_type": "markdown",
      "source": [
        "1. dato il nome di una nazione tute le sue informazioni\n",
        "2. dato il mone di una capitale, visualizzare la nazione a cui appartiene.\n",
        "3. visualizzare il nome della nazion epiu estesa.\n",
        "4. visualizzare la media delle popolazioni delle nazioni presenti."
      ],
      "metadata": {
        "id": "YvgmY9NrwCI-"
      }
    },
    {
      "cell_type": "code",
      "source": [
        "EU=[{ \"nome\":\"Austria\",\"capitale\":\"vienna\",\"superficie\":83871,\"abitanti\":8858775} ,\n",
        "{ \"nome\":\"Belgio\",\"capitale\":\"bruxelle\",\"superficie\":30528,\"abitanti\":11467923} ,\n",
        "{ \"nome\":\"Bulgaria\",\"capitale\":\"sofia\",\"superficie\":110879,\"abitanti\":7000039}, \n",
        "{\"nome\":\"Cipro\",\"capitale\":\"nicosia\",\"superficie\":9251,\"abitanti\":875898} ,\n",
        "{ \"nome\":\"Croazia\",\"capitale\":\"zagabria\",\"superficie\":56542,\"abitanti\":4076246} ,\n",
        "{ \"nome\":\"Danimarca\",\"capitale\":\"copenaghen\",\"superficie\":43094,\"abitanti\":5806081} ,\n",
        "{\"nome\":\"Estonia\", \"capitale\":\"tallin\",\"superficie\":45228,\"abitanti\":1324820}, \n",
        "{\"nome\":\"Finlandia\",\"capitale\":\"helsinki\",\"superficie\":338145, \"abitanti\":5517919} ,\n",
        "{\"nome\":\"Francia\", \"capitale\":\"parigi\",\"superficie\":543965,\"abitanti\":67028048} ,\n",
        "{ \"nome\":\"Germania\",\"capitale\":\"berlino\",\"superficie\":357022,\"abitanti\":83019214}]\n",
        "\n"
      ],
      "metadata": {
        "id": "2WL0aYcbvVm1"
      },
      "execution_count": null,
      "outputs": []
    },
    {
      "cell_type": "code",
      "source": [
        "nazione=input(\"inserisci nome nazione con la prima letterea maiuscola:\")\n",
        "for i in EU:\n",
        "  if nazione in i[\"nome\"]:\n",
        "     print(i)"
      ],
      "metadata": {
        "colab": {
          "base_uri": "https://localhost:8080/"
        },
        "id": "T3YAVLV81Kwf",
        "outputId": "b0a8a321-952d-4554-8408-52eaf968ce50"
      },
      "execution_count": null,
      "outputs": [
        {
          "output_type": "stream",
          "name": "stdout",
          "text": [
            "inserisci nome nazione con la prima letterea maiuscola:Austria\n",
            "{'nome': 'Austria', 'capitale': 'vienna', 'superficie': 83871, 'abitanti': 8858775}\n"
          ]
        }
      ]
    },
    {
      "cell_type": "code",
      "source": [
        "cap=input(\"inserisci il nom edella capitale con la prima letterea maiuscola:\")\n",
        "for i in EU:\n",
        "  if cap in i[\"capitale\"]:\n",
        "     print(i[\"nome\"])"
      ],
      "metadata": {
        "colab": {
          "base_uri": "https://localhost:8080/"
        },
        "id": "xUZjXbgC7gM-",
        "outputId": "4c49f5fa-5e2a-47be-c67c-597cbfda974e"
      },
      "execution_count": null,
      "outputs": [
        {
          "output_type": "stream",
          "name": "stdout",
          "text": [
            "inserisci il nom edella capitale con la prima letterea maiuscola:helsinki\n",
            "Finlandia\n"
          ]
        }
      ]
    },
    {
      "cell_type": "code",
      "source": [
        "superficie=[EU[i][\"superficie\"] for i in range(len(EU))]\n",
        "for i in EU:\n",
        "  if max(superficie) == i[\"superficie\"]:\n",
        "     print(i[\"nome\"])"
      ],
      "metadata": {
        "colab": {
          "base_uri": "https://localhost:8080/"
        },
        "id": "fdnUXQva8sxX",
        "outputId": "55701ba3-fc6f-43b0-daaf-773c3f1098d1"
      },
      "execution_count": null,
      "outputs": [
        {
          "output_type": "stream",
          "name": "stdout",
          "text": [
            "Francia\n"
          ]
        }
      ]
    },
    {
      "cell_type": "code",
      "source": [
        "from statistics import mean\n",
        "abitanti=int(mean([EU[i][\"abitanti\"] for i in range(len(EU))]))\n",
        "print(abitanti)"
      ],
      "metadata": {
        "colab": {
          "base_uri": "https://localhost:8080/"
        },
        "id": "C4uHU0boA7fx",
        "outputId": "d0d21938-29ed-4283-fb17-3f78a5499871"
      },
      "execution_count": null,
      "outputs": [
        {
          "output_type": "stream",
          "name": "stdout",
          "text": [
            "19497496\n"
          ]
        }
      ]
    },
    {
      "cell_type": "markdown",
      "source": [
        "esercizio 2)"
      ],
      "metadata": {
        "id": "mmquDg41wcLu"
      }
    },
    {
      "cell_type": "markdown",
      "source": [
        "memorizzare in una opportuna struttura dati i nomi di 10 citta europee e in un altra struttura dati i nomi di 10 capitali.scrivere poi il codice eccesario per avere i nomi delle citta che sono anche capitali."
      ],
      "metadata": {
        "id": "ARI3QPxuwe0U"
      }
    },
    {
      "cell_type": "code",
      "source": [
        "città={\"Milano\",\"Roma\",\"Lione\",\"Porto\",\"Barcellona\",\"Madrid\",\"Amsterdam\",\"Atene\",\"Berlino\",\"Amburgo\"}\n",
        "capitali={\"Roma\",\"Lisbona\",\"Madrid\",\"Berlino\",\"Bucarest\",\"Atene\",\"Riga\",\"Sofia\",\"Parigi\",\"Copenaghen\"}\n",
        "uguali=città.intersection(capitali)\n",
        "print(uguali)"
      ],
      "metadata": {
        "id": "QDnve2kcw3DX",
        "colab": {
          "base_uri": "https://localhost:8080/"
        },
        "outputId": "b593af90-736d-419f-fda6-f910392577e9"
      },
      "execution_count": null,
      "outputs": [
        {
          "output_type": "stream",
          "name": "stdout",
          "text": [
            "{'Roma', 'Madrid', 'Atene', 'Berlino'}\n"
          ]
        }
      ]
    },
    {
      "cell_type": "markdown",
      "source": [
        "#Esercizi"
      ],
      "metadata": {
        "id": "9lej0yFSn9Jq"
      }
    },
    {
      "cell_type": "markdown",
      "source": [
        "1. Crea un dizionario che contenga il tuo nome, cognome ed età "
      ],
      "metadata": {
        "id": "PApSI38XoAVv"
      }
    },
    {
      "cell_type": "code",
      "source": [
        "simone={\n",
        "    \"nome\":\"simone\",\n",
        "    \"cognome\":\"finessi\",\n",
        "    \"età\":17,\n",
        "}\n",
        "print(simone)"
      ],
      "metadata": {
        "id": "QqMTHnZKn_Vk",
        "colab": {
          "base_uri": "https://localhost:8080/"
        },
        "outputId": "341544c6-f301-4275-ea4f-faea4875c0ce"
      },
      "execution_count": null,
      "outputs": [
        {
          "output_type": "stream",
          "name": "stdout",
          "text": [
            "{'nome': 'simone', 'cognome': 'finessi', 'età': 17}\n"
          ]
        }
      ]
    },
    {
      "cell_type": "markdown",
      "source": [
        "2. Aggiungi al dizionario la tua altezza"
      ],
      "metadata": {
        "id": "S7Ibgr1GoXLf"
      }
    },
    {
      "cell_type": "code",
      "source": [
        "simone[\"altezza\"] = 174\n",
        "print(simone)"
      ],
      "metadata": {
        "id": "bhKQszWGp1U_",
        "colab": {
          "base_uri": "https://localhost:8080/"
        },
        "outputId": "dbc57639-8643-4a79-f215-9779aa2b5412"
      },
      "execution_count": null,
      "outputs": [
        {
          "output_type": "stream",
          "name": "stdout",
          "text": [
            "{'nome': 'simone', 'cognome': 'finessi', 'età': 17, 'altezza': 174}\n"
          ]
        }
      ]
    },
    {
      "cell_type": "markdown",
      "source": [
        "3. Cambia la tua altezza con quella di Goku (175 cm)"
      ],
      "metadata": {
        "id": "-RXBHj9np1h5"
      }
    },
    {
      "cell_type": "code",
      "source": [
        "simone[\"altezza\"] = 175\n",
        "print(simone)"
      ],
      "metadata": {
        "id": "_TxY5IyFqKMs",
        "colab": {
          "base_uri": "https://localhost:8080/"
        },
        "outputId": "fae1a7b4-3643-4919-f419-4109a4c7acbb"
      },
      "execution_count": null,
      "outputs": [
        {
          "output_type": "stream",
          "name": "stdout",
          "text": [
            "{'nome': 'simone', 'cognome': 'finessi', 'età': 17, 'altezza': 175}\n"
          ]
        }
      ]
    },
    {
      "cell_type": "markdown",
      "source": [
        "4. Visualizza il numero di chiavi"
      ],
      "metadata": {
        "id": "iGniB7HzqKZ6"
      }
    },
    {
      "cell_type": "code",
      "source": [
        "len(simone.keys())"
      ],
      "metadata": {
        "id": "XZXX713PqrTU",
        "colab": {
          "base_uri": "https://localhost:8080/"
        },
        "outputId": "d4eb6e1f-1556-4ca3-b9a0-b32f35f26f97"
      },
      "execution_count": null,
      "outputs": [
        {
          "output_type": "execute_result",
          "data": {
            "text/plain": [
              "4"
            ]
          },
          "metadata": {},
          "execution_count": 6
        }
      ]
    },
    {
      "cell_type": "code",
      "source": [
        "len(simone)"
      ],
      "metadata": {
        "colab": {
          "base_uri": "https://localhost:8080/"
        },
        "id": "FmmRBQj8HifT",
        "outputId": "74593c86-19e9-4604-99ae-8deb30cf1415"
      },
      "execution_count": null,
      "outputs": [
        {
          "output_type": "execute_result",
          "data": {
            "text/plain": [
              "4"
            ]
          },
          "metadata": {},
          "execution_count": 7
        }
      ]
    },
    {
      "cell_type": "markdown",
      "source": [
        "5. Visualizza la seconda chiave"
      ],
      "metadata": {
        "id": "q_0zk6mrqt7-"
      }
    },
    {
      "cell_type": "code",
      "source": [
        "keys=list(simone.keys())\n",
        "print(keys[1])"
      ],
      "metadata": {
        "id": "HgYlBic4qsxE",
        "colab": {
          "base_uri": "https://localhost:8080/"
        },
        "outputId": "720430fa-e8de-4331-e566-f5dc3cf610e0"
      },
      "execution_count": null,
      "outputs": [
        {
          "output_type": "stream",
          "name": "stdout",
          "text": [
            "cognome\n"
          ]
        }
      ]
    },
    {
      "cell_type": "markdown",
      "source": [
        "6. Crea un nuovo dizionario uguale al primo"
      ],
      "metadata": {
        "id": "dIauu1huqsat"
      }
    },
    {
      "cell_type": "code",
      "source": [
        "simone2=simone.copy()\n",
        "print(simone2)"
      ],
      "metadata": {
        "id": "m0gS8qXIquaQ",
        "colab": {
          "base_uri": "https://localhost:8080/"
        },
        "outputId": "ba6a09fb-462b-4420-9856-79adb9ceca27"
      },
      "execution_count": null,
      "outputs": [
        {
          "output_type": "stream",
          "name": "stdout",
          "text": [
            "{'nome': 'simone', 'cognome': 'finessi', 'età': 17, 'altezza': 175}\n"
          ]
        }
      ]
    },
    {
      "cell_type": "markdown",
      "source": [
        "7. Svuota il nuovo dizionario e visualizza il primo"
      ],
      "metadata": {
        "id": "WYoAw7Morar-"
      }
    },
    {
      "cell_type": "code",
      "source": [
        "simone2.clear()\n",
        "print(simone2)"
      ],
      "metadata": {
        "id": "7WT4q624raW9",
        "colab": {
          "base_uri": "https://localhost:8080/"
        },
        "outputId": "9802de60-4b71-4a2e-ead6-ded3eacc4900"
      },
      "execution_count": null,
      "outputs": [
        {
          "output_type": "stream",
          "name": "stdout",
          "text": [
            "{}\n"
          ]
        }
      ]
    },
    {
      "cell_type": "markdown",
      "source": [
        "8. Nel secondo dizionario inserisci le chiavi \"batte\", \"forte\", \"sempre\" e assegna ad ognuna il valore \"comodino\"."
      ],
      "metadata": {
        "id": "XZY5GJA-rilG"
      }
    },
    {
      "cell_type": "code",
      "source": [
        "keys=(\"batte\",\"forte\",\"sempre\")\n",
        "value=\"comodino\"\n",
        "simone2=dict.fromkeys(keys,value)\n",
        "print(simone2)"
      ],
      "metadata": {
        "id": "R8wJB1aeri8j",
        "colab": {
          "base_uri": "https://localhost:8080/"
        },
        "outputId": "e1f44d11-7fa4-434d-bc98-20a8df90cdd7"
      },
      "execution_count": null,
      "outputs": [
        {
          "output_type": "stream",
          "name": "stdout",
          "text": [
            "{'batte': 'comodino', 'forte': 'comodino', 'sempre': 'comodino'}\n"
          ]
        }
      ]
    },
    {
      "cell_type": "markdown",
      "source": [
        "9. Visualizza con un ciclo tutti gli elementi presenti nel secondo dizionario"
      ],
      "metadata": {
        "id": "MdEW9kpZss6B"
      }
    },
    {
      "cell_type": "code",
      "source": [
        "for key in simone2:\n",
        "  print(key,simone2[key])"
      ],
      "metadata": {
        "id": "RZE6VL--tEXw",
        "colab": {
          "base_uri": "https://localhost:8080/"
        },
        "outputId": "d05cb524-237c-459b-f671-faebf52333eb"
      },
      "execution_count": null,
      "outputs": [
        {
          "output_type": "stream",
          "name": "stdout",
          "text": [
            "batte comodino\n",
            "forte comodino\n",
            "sempre comodino\n"
          ]
        }
      ]
    },
    {
      "cell_type": "markdown",
      "source": [
        "10. Rimuovi il valore della seconda chiave del secondo dizionario"
      ],
      "metadata": {
        "id": "QYRBcxZhtErM"
      }
    },
    {
      "cell_type": "code",
      "source": [
        "lista=list(simone2.keys())\n",
        "simone2[lista[1]]=\"\"\n"
      ],
      "metadata": {
        "id": "6ALtbmqRudyG"
      },
      "execution_count": null,
      "outputs": []
    },
    {
      "cell_type": "markdown",
      "source": [
        "11. Crea un dizionario chiamato Dizionarione che contenga sia il primo che il secondo"
      ],
      "metadata": {
        "id": "VRmozyp2upEl"
      }
    },
    {
      "cell_type": "code",
      "source": [
        "dizionarione=simone.copy()\n",
        "dizionarione.update(simone2)\n",
        "print(dizionarione)"
      ],
      "metadata": {
        "id": "TOc3AwPbuonN",
        "colab": {
          "base_uri": "https://localhost:8080/"
        },
        "outputId": "f6bf1975-ba31-4776-e42b-8fcdea204947"
      },
      "execution_count": null,
      "outputs": [
        {
          "output_type": "stream",
          "name": "stdout",
          "text": [
            "{'nome': 'simone', 'cognome': 'finessi', 'età': 17, 'altezza': 175, 'batte': 'comodino', 'forte': '', 'sempre': 'comodino'}\n"
          ]
        }
      ]
    },
    {
      "cell_type": "markdown",
      "source": [
        "12. Aggiungi a Dizionarione un terzo dizionario che contenga 3 chiavi e 3 valori a tua scelta"
      ],
      "metadata": {
        "id": "wZVJ4FHywgRz"
      }
    },
    {
      "cell_type": "code",
      "source": [
        "dizionario3={\n",
        "    \"giorno\":7,\n",
        "    \"mese\": 11,\n",
        "    \"anno\":2022\n",
        "}\n",
        "dizionarione.update(dizionario3)\n",
        "print(dizionarione)"
      ],
      "metadata": {
        "id": "3yKMd-6qwgg6",
        "colab": {
          "base_uri": "https://localhost:8080/"
        },
        "outputId": "13cee8b5-bf3c-4385-8782-488e358d587f"
      },
      "execution_count": null,
      "outputs": [
        {
          "output_type": "stream",
          "name": "stdout",
          "text": [
            "{'nome': 'simone', 'cognome': 'finessi', 'età': 17, 'altezza': 175, 'batte': 'comodino', 'forte': '', 'sempre': 'comodino', 'giorno': 7, 'mese': 11, 'anno': 2022}\n"
          ]
        }
      ]
    },
    {
      "cell_type": "markdown",
      "source": [
        "13. Rimuovi il terzo dizionario da Dizionarione e visualizzalo"
      ],
      "metadata": {
        "id": "SR6Qslrou3Fj"
      }
    },
    {
      "cell_type": "code",
      "source": [
        "dizionario3=list(dizionario3)\n",
        "for key in dizionario3:\n",
        "  dizionarione.pop(key)\n",
        "print(dizionarione)"
      ],
      "metadata": {
        "id": "AJKe5vX9wDcc",
        "colab": {
          "base_uri": "https://localhost:8080/"
        },
        "outputId": "0001e543-669f-49d0-f23c-a61788ddbb26"
      },
      "execution_count": null,
      "outputs": [
        {
          "output_type": "stream",
          "name": "stdout",
          "text": [
            "{'nome': 'simone', 'cognome': 'finessi', 'età': 17, 'altezza': 175, 'batte': 'comodino', 'forte': '', 'sempre': 'comodino'}\n"
          ]
        }
      ]
    }
  ]
}