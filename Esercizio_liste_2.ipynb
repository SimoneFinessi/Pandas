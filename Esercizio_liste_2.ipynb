{
  "nbformat": 4,
  "nbformat_minor": 0,
  "metadata": {
    "colab": {
      "provenance": [],
      "collapsed_sections": [],
      "include_colab_link": true
    },
    "kernelspec": {
      "name": "python3",
      "display_name": "Python 3"
    },
    "language_info": {
      "name": "python"
    }
  },
  "cells": [
    {
      "cell_type": "markdown",
      "metadata": {
        "id": "view-in-github",
        "colab_type": "text"
      },
      "source": [
        "<a href=\"https://colab.research.google.com/github/SimoneFinessi/Python/blob/main/Esercizio_liste_2.ipynb\" target=\"_parent\"><img src=\"https://colab.research.google.com/assets/colab-badge.svg\" alt=\"Open In Colab\"/></a>"
      ]
    },
    {
      "cell_type": "markdown",
      "source": [
        "##Esercizo in preparazione alla verifica"
      ],
      "metadata": {
        "id": "SDexScMGbRcj"
      }
    },
    {
      "cell_type": "markdown",
      "source": [
        "Caricare in una o più strutture dati adeguate i dati relativi alle squadre di calcio che hanno giocato la decima giornata del campionato. In particolare si è interessati a memorizzare le squadre che hanno giocato in casa, quelle che hanno giocato fuori casa, i gol fatti in ogni partita dalla squadra di casa e da quella ospite. Scrivere poi le istruzioni per avere le informazioni richieste nei vari esercizi"
      ],
      "metadata": {
        "id": "uOtyj2sHTbcS"
      }
    },
    {
      "cell_type": "code",
      "execution_count": 2,
      "metadata": {
        "id": "7afOYm6zTYAD"
      },
      "outputs": [],
      "source": [
        "squadrecasa=[\"empoli\",\"torino\",\"atalanta\",\"inter\",\"lazio\",\"spezia\",\"napoli\",\"verona\",\"sampdoria\",\"lecce\"]\n",
        "squadrefuori=[\"monza\",\"juventus\",\"sassuolo\",\"salermitana\",\"udinese\",\"cremonese\",\"bologna\",\"milan\",\"roma\",\"fiorentina\",]\n",
        "golcasa=[1,0,2,2,0,2,3,1,0,1]\n",
        "golfuori=[0,1,1,0,0,2,2,2,1,1]\n",
        "\n"
      ]
    },
    {
      "cell_type": "markdown",
      "source": [
        "1. visualizzare le partite che si sono giocate. Visualizzare i risultati nel formato **squadra1 - squadra2 : golSquadra1 - golSquadra2**, una partita sotto l'altra"
      ],
      "metadata": {
        "id": "anLe5NH_UPFX"
      }
    },
    {
      "cell_type": "code",
      "source": [
        "for i in range(len(squadrecasa)):\n",
        " # print(squadrecasa[i],\"-\",squadrefuori[i],\":\",golcasa[i],\"-\",golfuori[i])\n",
        "  print(\"{:9} {:^3} {:11} {:1} {:1} {:1} {:1}\".format(squadrecasa[i],\"-\" ,squadrefuori[i],\":\",golcasa[i],\"-\",golfuori[i]))"
      ],
      "metadata": {
        "id": "OEIRK8frUmDH",
        "colab": {
          "base_uri": "https://localhost:8080/"
        },
        "outputId": "4d53a629-d8e4-46d0-ebcd-3141963b8710"
      },
      "execution_count": 42,
      "outputs": [
        {
          "output_type": "stream",
          "name": "stdout",
          "text": [
            "empoli     -  monza       : 1 - 0\n",
            "torino     -  juventus    : 0 - 1\n",
            "atalanta   -  sassuolo    : 2 - 1\n",
            "inter      -  salermitana : 2 - 0\n",
            "lazio      -  udinese     : 0 - 0\n",
            "spezia     -  cremonese   : 2 - 2\n",
            "napoli     -  bologna     : 3 - 2\n",
            "verona     -  milan       : 1 - 2\n",
            "sampdoria  -  roma        : 0 - 1\n",
            "lecce      -  fiorentina  : 1 - 1\n"
          ]
        }
      ]
    },
    {
      "cell_type": "markdown",
      "source": [
        "2. visualizzare l'elenco in ordine alfabetico delle squadre che hanno vinto. Caricare i nomi in una nuova lista chiamata **squadreV**"
      ],
      "metadata": {
        "id": "BNb9qu-cVJ2d"
      }
    },
    {
      "cell_type": "code",
      "source": [
        "squadrev=[]\n",
        "squadreP=[]\n",
        "for i in range(len(squadrecasa)):\n",
        "    if golcasa[i]>golfuori[i]:\n",
        "      squadrev.append(squadrecasa[i])\n",
        "      squadreP.append(squadrefuori[i])\n",
        "    elif golcasa[i]<golfuori[i]:\n",
        "      squadrev.append(squadrefuori[i])\n",
        "      squadreP.append(squadrecasa[i])\n",
        "squadrev.sort()\n",
        "\n",
        "print(squadrev)\n"
      ],
      "metadata": {
        "id": "NWvhhclUVPKy",
        "colab": {
          "base_uri": "https://localhost:8080/"
        },
        "outputId": "4b0df619-328a-4418-f05e-86e68cdbfd59"
      },
      "execution_count": 57,
      "outputs": [
        {
          "output_type": "stream",
          "name": "stdout",
          "text": [
            "['atalanta', 'empoli', 'inter', 'juventus', 'milan', 'napoli', 'roma']\n"
          ]
        }
      ]
    },
    {
      "cell_type": "markdown",
      "source": [
        "3. visualizzare l'elenco in ordine alfabetico delle squadre che hanno perso. Caricare i nomi in una nuova lista chiamata **squadreP**"
      ],
      "metadata": {
        "id": "ZpSNMANmVPhh"
      }
    },
    {
      "cell_type": "code",
      "source": [
        "squadreP.sort()\n",
        "print(squadreP)"
      ],
      "metadata": {
        "id": "vH6wz6ZhViJg",
        "colab": {
          "base_uri": "https://localhost:8080/"
        },
        "outputId": "bedfbebd-ded0-4c32-976a-eb0c34b5bd55"
      },
      "execution_count": null,
      "outputs": [
        {
          "output_type": "stream",
          "name": "stdout",
          "text": [
            "['bologna', 'monza', 'salermitana', 'sampdoria', 'sassuolo', 'torino', 'verona']\n"
          ]
        }
      ]
    },
    {
      "cell_type": "markdown",
      "source": [
        "4. utilizzare i dati presenti nelle due liste precedentemente create per permettere all'utente di sapere se una squadra ha pareggiato o meno. L'utente inserisce il nome della squadra e il programma risponde visualizzando la stringa **'la squadra \\<nomeSquadraInserita\\> ha pareggiato'** o **'la squadra \\<nomeSquadraInserita\\> non pareggiato'**"
      ],
      "metadata": {
        "id": "CztpE9kyVilA"
      }
    },
    {
      "cell_type": "code",
      "source": [
        "squadra=input(\"inserisci nome squadra\")\n",
        "if squadra in squadrecasa:\n",
        "  if golcasa[squadrecasa.index(squadra)]==golfuori[squadrecasa.index(squadra)]:\n",
        "    print(\"la squadra \",squadra, \"ha pareggiato\")\n",
        "  else:\n",
        "    print(\"la squadra non ha pareggiato\")\n",
        "else: \n",
        "  if golcasa[squadrefuori.index(squadra)]==golfuori[squadrefuori.index(squadra)]:\n",
        "    print(\"la squadra \",squadra, \"ha pareggiato\")\n",
        "  else:\n",
        "    print(\"la squadra non ha pareggiato\")\n"
      ],
      "metadata": {
        "id": "3VzlSMzAV8K6",
        "colab": {
          "base_uri": "https://localhost:8080/",
          "height": 380
        },
        "outputId": "20e2a933-80dd-435d-b692-4f408ee1e891"
      },
      "execution_count": 56,
      "outputs": [
        {
          "output_type": "error",
          "ename": "KeyboardInterrupt",
          "evalue": "ignored",
          "traceback": [
            "\u001b[0;31m---------------------------------------------------------------------------\u001b[0m",
            "\u001b[0;31mKeyboardInterrupt\u001b[0m                         Traceback (most recent call last)",
            "\u001b[0;32m<ipython-input-56-1478b44c3642>\u001b[0m in \u001b[0;36m<module>\u001b[0;34m\u001b[0m\n\u001b[0;32m----> 1\u001b[0;31m \u001b[0msquadra\u001b[0m\u001b[0;34m=\u001b[0m\u001b[0minput\u001b[0m\u001b[0;34m(\u001b[0m\u001b[0;34m\"inserisci nome squadra\"\u001b[0m\u001b[0;34m)\u001b[0m\u001b[0;34m\u001b[0m\u001b[0;34m\u001b[0m\u001b[0m\n\u001b[0m\u001b[1;32m      2\u001b[0m \u001b[0;32mif\u001b[0m \u001b[0msquadra\u001b[0m \u001b[0;32min\u001b[0m \u001b[0msquadrecasa\u001b[0m\u001b[0;34m:\u001b[0m\u001b[0;34m\u001b[0m\u001b[0;34m\u001b[0m\u001b[0m\n\u001b[1;32m      3\u001b[0m   \u001b[0;32mif\u001b[0m \u001b[0mgolcasa\u001b[0m\u001b[0;34m[\u001b[0m\u001b[0msquadrecasa\u001b[0m\u001b[0;34m.\u001b[0m\u001b[0mindex\u001b[0m\u001b[0;34m(\u001b[0m\u001b[0msquadra\u001b[0m\u001b[0;34m)\u001b[0m\u001b[0;34m]\u001b[0m\u001b[0;34m==\u001b[0m\u001b[0mgolfuori\u001b[0m\u001b[0;34m[\u001b[0m\u001b[0msquadrecasa\u001b[0m\u001b[0;34m.\u001b[0m\u001b[0mindex\u001b[0m\u001b[0;34m(\u001b[0m\u001b[0msquadra\u001b[0m\u001b[0;34m)\u001b[0m\u001b[0;34m]\u001b[0m\u001b[0;34m:\u001b[0m\u001b[0;34m\u001b[0m\u001b[0;34m\u001b[0m\u001b[0m\n\u001b[1;32m      4\u001b[0m     \u001b[0mprint\u001b[0m\u001b[0;34m(\u001b[0m\u001b[0;34m\"la squadra \"\u001b[0m\u001b[0;34m,\u001b[0m\u001b[0msquadra\u001b[0m\u001b[0;34m,\u001b[0m \u001b[0;34m\"ha pareggiato\"\u001b[0m\u001b[0;34m)\u001b[0m\u001b[0;34m\u001b[0m\u001b[0;34m\u001b[0m\u001b[0m\n\u001b[1;32m      5\u001b[0m   \u001b[0;32melse\u001b[0m\u001b[0;34m:\u001b[0m\u001b[0;34m\u001b[0m\u001b[0;34m\u001b[0m\u001b[0m\n",
            "\u001b[0;32m/usr/local/lib/python3.7/dist-packages/ipykernel/kernelbase.py\u001b[0m in \u001b[0;36mraw_input\u001b[0;34m(self, prompt)\u001b[0m\n\u001b[1;32m    861\u001b[0m             \u001b[0mself\u001b[0m\u001b[0;34m.\u001b[0m\u001b[0m_parent_ident\u001b[0m\u001b[0;34m,\u001b[0m\u001b[0;34m\u001b[0m\u001b[0;34m\u001b[0m\u001b[0m\n\u001b[1;32m    862\u001b[0m             \u001b[0mself\u001b[0m\u001b[0;34m.\u001b[0m\u001b[0m_parent_header\u001b[0m\u001b[0;34m,\u001b[0m\u001b[0;34m\u001b[0m\u001b[0;34m\u001b[0m\u001b[0m\n\u001b[0;32m--> 863\u001b[0;31m             \u001b[0mpassword\u001b[0m\u001b[0;34m=\u001b[0m\u001b[0;32mFalse\u001b[0m\u001b[0;34m,\u001b[0m\u001b[0;34m\u001b[0m\u001b[0;34m\u001b[0m\u001b[0m\n\u001b[0m\u001b[1;32m    864\u001b[0m         )\n\u001b[1;32m    865\u001b[0m \u001b[0;34m\u001b[0m\u001b[0m\n",
            "\u001b[0;32m/usr/local/lib/python3.7/dist-packages/ipykernel/kernelbase.py\u001b[0m in \u001b[0;36m_input_request\u001b[0;34m(self, prompt, ident, parent, password)\u001b[0m\n\u001b[1;32m    902\u001b[0m             \u001b[0;32mexcept\u001b[0m \u001b[0mKeyboardInterrupt\u001b[0m\u001b[0;34m:\u001b[0m\u001b[0;34m\u001b[0m\u001b[0;34m\u001b[0m\u001b[0m\n\u001b[1;32m    903\u001b[0m                 \u001b[0;31m# re-raise KeyboardInterrupt, to truncate traceback\u001b[0m\u001b[0;34m\u001b[0m\u001b[0;34m\u001b[0m\u001b[0;34m\u001b[0m\u001b[0m\n\u001b[0;32m--> 904\u001b[0;31m                 \u001b[0;32mraise\u001b[0m \u001b[0mKeyboardInterrupt\u001b[0m\u001b[0;34m(\u001b[0m\u001b[0;34m\"Interrupted by user\"\u001b[0m\u001b[0;34m)\u001b[0m \u001b[0;32mfrom\u001b[0m \u001b[0;32mNone\u001b[0m\u001b[0;34m\u001b[0m\u001b[0;34m\u001b[0m\u001b[0m\n\u001b[0m\u001b[1;32m    905\u001b[0m             \u001b[0;32mexcept\u001b[0m \u001b[0mException\u001b[0m \u001b[0;32mas\u001b[0m \u001b[0me\u001b[0m\u001b[0;34m:\u001b[0m\u001b[0;34m\u001b[0m\u001b[0;34m\u001b[0m\u001b[0m\n\u001b[1;32m    906\u001b[0m                 \u001b[0mself\u001b[0m\u001b[0;34m.\u001b[0m\u001b[0mlog\u001b[0m\u001b[0;34m.\u001b[0m\u001b[0mwarning\u001b[0m\u001b[0;34m(\u001b[0m\u001b[0;34m\"Invalid Message:\"\u001b[0m\u001b[0;34m,\u001b[0m \u001b[0mexc_info\u001b[0m\u001b[0;34m=\u001b[0m\u001b[0;32mTrue\u001b[0m\u001b[0;34m)\u001b[0m\u001b[0;34m\u001b[0m\u001b[0;34m\u001b[0m\u001b[0m\n",
            "\u001b[0;31mKeyboardInterrupt\u001b[0m: Interrupted by user"
          ]
        }
      ]
    },
    {
      "cell_type": "markdown",
      "source": [
        "5. visualizzare il numero di partite in cui c'è stato un pareggio"
      ],
      "metadata": {
        "id": "8wpASWr6V8xA"
      }
    },
    {
      "cell_type": "code",
      "source": [
        "conto=0\n",
        "for i in range(len(golcasa)):\n",
        "  if golcasa[i]==golfuori[i]:\n",
        "     conto +=1\n",
        "print(conto)"
      ],
      "metadata": {
        "id": "WP-YdTifWs8G",
        "colab": {
          "base_uri": "https://localhost:8080/"
        },
        "outputId": "c4253921-7df8-4a40-d5b0-3488044abfb9"
      },
      "execution_count": 45,
      "outputs": [
        {
          "output_type": "stream",
          "name": "stdout",
          "text": [
            "3\n"
          ]
        }
      ]
    },
    {
      "cell_type": "markdown",
      "source": [
        "Caricare in altre struttura dati la classifica **prima** della decima giornata, ordinata in ordine decrescente a partire dalla squadra con più punti. Chiamare la struttura dati **classifica09**"
      ],
      "metadata": {
        "id": "QV2p7qfTWtY8"
      }
    },
    {
      "cell_type": "code",
      "source": [
        "classifica09 = [23, 21, 20, 20, 20, 19, 15, 13, 12, 11, 10, 10, 9, 8, 8, 7, 7, 5, 3, 3]\n",
        "squadre09 = [\"napoli\", \"atalanta\", \"lazio\", \"udinese\", \"milan\", \"roma\", \"inter\", \"juventus\", \"sassuolo\", \"torino\", \"salernitana\", \"monza\", \"fiorentina\", \"empoli\", \"spezia\", \"lecce\", \"bologna\", \"verona\", \"cremonese\", \"samdoria\"]"
      ],
      "metadata": {
        "id": "0t0dJa8lW3d4"
      },
      "execution_count": 47,
      "outputs": []
    },
    {
      "cell_type": "markdown",
      "source": [
        "6. visualizzare la classifica. Visualizzare il nome della squadra e i suoi punti. Visualizzare poi le prime 6 squadre che, se il campionato finisse oggi, si qualificherebbero per accedere alle competizioni europee"
      ],
      "metadata": {
        "id": "7ZdhHj6GW31P"
      }
    },
    {
      "cell_type": "code",
      "source": [
        "for i in range(len(classifica09)):\n",
        " print(\"{:11}{:^3}{:<2}\".format(squadre09[i],\"-\",classifica09[i]))\n",
        "\n",
        "print(\"---------------------------------------------------------------------\")\n",
        "print(squadre09[0:6])\n",
        "\n"
      ],
      "metadata": {
        "id": "MlNaWI6mXIYe",
        "colab": {
          "base_uri": "https://localhost:8080/"
        },
        "outputId": "57ec7744-3caf-4d1f-ae42-d7ee9cbae51e"
      },
      "execution_count": 54,
      "outputs": [
        {
          "output_type": "stream",
          "name": "stdout",
          "text": [
            "napoli      - 23\n",
            "atalanta    - 21\n",
            "lazio       - 20\n",
            "udinese     - 20\n",
            "milan       - 20\n",
            "roma        - 19\n",
            "inter       - 15\n",
            "juventus    - 13\n",
            "sassuolo    - 12\n",
            "torino      - 11\n",
            "salernitana - 10\n",
            "monza       - 10\n",
            "fiorentina  - 9 \n",
            "empoli      - 8 \n",
            "spezia      - 8 \n",
            "lecce       - 7 \n",
            "bologna     - 7 \n",
            "verona      - 5 \n",
            "cremonese   - 3 \n",
            "samdoria    - 3 \n",
            "---------------------------------------------------------------------\n",
            "['napoli', 'atalanta', 'lazio', 'udinese', 'milan', 'roma']\n"
          ]
        }
      ]
    },
    {
      "cell_type": "markdown",
      "source": [
        "7. aggiornare la classifica con i risultati della decima giornata. Inserire la nuova classifica in una nuova lista chiamata **classifica10**"
      ],
      "metadata": {
        "id": "WHTPsWQuXI8P"
      }
    },
    {
      "cell_type": "code",
      "source": [
        "classifica10=[]\n",
        "for i in range(len(squadre09)):\n",
        "  if squadre09[i] in squadrev:\n",
        "    classifica09[ squadre09.index(squadre09[i])] += 3\n",
        "  elif squadre09[i] in  squadreP:\n",
        "    classifica09[ squadre09.index(squadre09[i])] += 0\n",
        "  else:\n",
        "    classifica09[ squadre09.index(squadre09[i])] += 1\n",
        "  classifica10.append(classifica09[ squadre09.index(squadre09[i])])\n",
        "\n",
        "\n",
        "classifica10.sort(reverse=True)\n",
        "squadre10 = [\"napoli\", \"atalanta\", \"milan\", \"lazio\", \"udinese\", \"roma\", \"inter\", \"juventus\", \"sassuolo\", \"empoli\", \"torino\", \"salernitana\", \"monza\", \"fiorentina\", \"spezia\", \"lecce\", \"bologna\", \"verona\", \"cremonese\", \"samdoria\"]\n",
        "print(classifica10)\n",
        "print(squadre10)"
      ],
      "metadata": {
        "id": "IbellgF5XZDJ",
        "colab": {
          "base_uri": "https://localhost:8080/"
        },
        "outputId": "767d8721-43a8-4120-ddde-e8182b5a9344"
      },
      "execution_count": 58,
      "outputs": [
        {
          "output_type": "stream",
          "name": "stdout",
          "text": [
            "[26, 24, 23, 22, 21, 21, 18, 16, 12, 11, 11, 11, 10, 10, 9, 8, 7, 5, 4, 4]\n",
            "['napoli', 'atalanta', 'milan', 'lazio', 'udinese', 'roma', 'inter', 'juventus', 'sassuolo', 'empoli', 'torino', 'salernitana', 'monza', 'fiorentina', 'spezia', 'lecce', 'bologna', 'verona', 'cremonese', 'samdoria']\n"
          ]
        }
      ]
    },
    {
      "cell_type": "markdown",
      "source": [
        "8. visualizzare le squadre che hanno cambiato posizione in classifica, quelle cioè che **non** occupano lo stesso posto in classifica09 e classifica10"
      ],
      "metadata": {
        "id": "Zhqh9_C0XPum"
      }
    },
    {
      "cell_type": "code",
      "source": [
        "#for i in range(len(squadre09)):\n",
        " # if classifica09[i]!= classifica10[i]:\n",
        "  #  print(squadre09[i])\n",
        "print(\"-----------------------------------------\")\n",
        "i=0\n",
        "for i in range(len(squadre10)):\n",
        "  if squadre09[i] != squadre10[i]:\n",
        "     print(squadre10[i])"
      ],
      "metadata": {
        "id": "pcM4naDAYbC3",
        "colab": {
          "base_uri": "https://localhost:8080/"
        },
        "outputId": "b23a2a10-3a4b-438c-aaed-556d338debff"
      },
      "execution_count": 69,
      "outputs": [
        {
          "output_type": "stream",
          "name": "stdout",
          "text": [
            "-----------------------------------------\n",
            "milan\n",
            "lazio\n",
            "udinese\n",
            "empoli\n",
            "torino\n",
            "salernitana\n",
            "monza\n",
            "fiorentina\n"
          ]
        }
      ]
    },
    {
      "cell_type": "markdown",
      "source": [
        "Caricare i dati relativi ai gol fatti e subiti dopo la decima giornata. Chiamare le strutture dati **golFatti** e **golSubiti**"
      ],
      "metadata": {
        "id": "haIAClbwYblb"
      }
    },
    {
      "cell_type": "code",
      "source": [
        "golFatti = [25, 16, 20, 21, 19, 12, 18, 13, 12, 9, 8, 12, 9, 7, 9, 8, 10, 9, 9, 5]\n",
        "golSubiti = [9, 6, 10, 5, 10, 9, 14, 7, 12, 11, 12, 16, 15, 11, 19, 11, 17, 19, 21, 17]"
      ],
      "metadata": {
        "id": "rKPUTVvtYuL4"
      },
      "execution_count": 70,
      "outputs": []
    },
    {
      "cell_type": "markdown",
      "source": [
        "9. visualizzare la squadra che ha fatto più gol"
      ],
      "metadata": {
        "id": "t8vN8HuGYunx"
      }
    },
    {
      "cell_type": "code",
      "source": [
        "print(squadre10[golFatti.index(max(golFatti))])"
      ],
      "metadata": {
        "id": "S6dsABWgYyKQ",
        "colab": {
          "base_uri": "https://localhost:8080/"
        },
        "outputId": "840b2bcf-f8d1-437c-c19b-07a427696cf5"
      },
      "execution_count": 71,
      "outputs": [
        {
          "output_type": "stream",
          "name": "stdout",
          "text": [
            "napoli\n"
          ]
        }
      ]
    },
    {
      "cell_type": "markdown",
      "source": [
        "10. visualizzare la squadra che ha fatto meno gol"
      ],
      "metadata": {
        "id": "bRPgADnxYynX"
      }
    },
    {
      "cell_type": "code",
      "source": [
        "print(squadre10[golFatti.index(min(golFatti))])"
      ],
      "metadata": {
        "id": "qKCoZzOJY3Ix",
        "colab": {
          "base_uri": "https://localhost:8080/"
        },
        "outputId": "651c07da-a651-4a52-a715-11c58ef4147a"
      },
      "execution_count": 72,
      "outputs": [
        {
          "output_type": "stream",
          "name": "stdout",
          "text": [
            "samdoria\n"
          ]
        }
      ]
    },
    {
      "cell_type": "markdown",
      "source": [
        "11. visualizzare il numero medio di gol fatti dalle squadre"
      ],
      "metadata": {
        "id": "75SjNLTaY3gx"
      }
    },
    {
      "cell_type": "code",
      "source": [
        "from statistics import mean\n",
        "print(mean(golFatti))"
      ],
      "metadata": {
        "id": "KgEqym2sY7L5",
        "colab": {
          "base_uri": "https://localhost:8080/"
        },
        "outputId": "bb4be8e0-1685-47ad-846c-ef858508d6da"
      },
      "execution_count": 73,
      "outputs": [
        {
          "output_type": "stream",
          "name": "stdout",
          "text": [
            "12.55\n"
          ]
        }
      ]
    },
    {
      "cell_type": "markdown",
      "source": [
        "12 visualizzare i nomi delle squadre che hanno fatto più gol della media"
      ],
      "metadata": {
        "id": "m8e4n6PkY7gZ"
      }
    },
    {
      "cell_type": "code",
      "source": [
        "for i in range(len(golFatti)):\n",
        "  if golFatti[i] > mean(golFatti):\n",
        "    print(squadre10[i])"
      ],
      "metadata": {
        "id": "WYVVzvseZR1C",
        "colab": {
          "base_uri": "https://localhost:8080/"
        },
        "outputId": "9f43cc0c-77f5-4b86-fb32-e44d11e4a6e8"
      },
      "execution_count": 74,
      "outputs": [
        {
          "output_type": "stream",
          "name": "stdout",
          "text": [
            "napoli\n",
            "atalanta\n",
            "milan\n",
            "lazio\n",
            "udinese\n",
            "inter\n",
            "juventus\n"
          ]
        }
      ]
    },
    {
      "cell_type": "markdown",
      "source": [
        "13. calcolare la differenza reti delle varie squadre: caricare i risultati in una nuova lista chiamata **differenzaReti**"
      ],
      "metadata": {
        "id": "ybyMSXlyZSYI"
      }
    },
    {
      "cell_type": "code",
      "source": [
        "differenzaReti = [golFatti[i] - golSubiti[i] for i in range(len(golFatti))]\n",
        "print(differenzaReti)\n"
      ],
      "metadata": {
        "id": "wFuTrkm6Z9nI",
        "colab": {
          "base_uri": "https://localhost:8080/"
        },
        "outputId": "4303d1fd-7c41-4d94-8dcc-42d2356cff51"
      },
      "execution_count": 75,
      "outputs": [
        {
          "output_type": "stream",
          "name": "stdout",
          "text": [
            "[16, 10, 10, 16, 9, 3, 4, 6, 0, -2, -4, -4, -6, -4, -10, -3, -7, -10, -12, -12]\n"
          ]
        }
      ]
    },
    {
      "cell_type": "markdown",
      "source": [
        "14. visualizzare i nomi delle squadre che hanno una differenza reti positiva"
      ],
      "metadata": {
        "id": "C-oNfGQoZ-d1"
      }
    },
    {
      "cell_type": "code",
      "source": [
        "for i in range(len(differenzaReti)):\n",
        "  if differenzaReti[i] >0:\n",
        "    print(squadre10[i])\n"
      ],
      "metadata": {
        "id": "lddcG_oQaDKk",
        "colab": {
          "base_uri": "https://localhost:8080/"
        },
        "outputId": "7a4927d5-c73a-4c0c-a14e-836b32d12a26"
      },
      "execution_count": 76,
      "outputs": [
        {
          "output_type": "stream",
          "name": "stdout",
          "text": [
            "napoli\n",
            "atalanta\n",
            "milan\n",
            "lazio\n",
            "udinese\n",
            "roma\n",
            "inter\n",
            "juventus\n"
          ]
        }
      ]
    },
    {
      "cell_type": "markdown",
      "source": [
        "15. visualizzare i nomi delle squadre che hanno subito più gol di quelli che hanno fatto"
      ],
      "metadata": {
        "id": "AY7CHxuHaD2x"
      }
    },
    {
      "cell_type": "code",
      "source": [
        "for i in range(len(differenzaReti)):\n",
        "  if differenzaReti[i] <0:\n",
        "    print(squadre10[i])"
      ],
      "metadata": {
        "id": "RqxyOuMiaJF4",
        "colab": {
          "base_uri": "https://localhost:8080/"
        },
        "outputId": "45afcb48-09b5-4584-bc1d-a15bd706bb18"
      },
      "execution_count": 77,
      "outputs": [
        {
          "output_type": "stream",
          "name": "stdout",
          "text": [
            "empoli\n",
            "torino\n",
            "salernitana\n",
            "monza\n",
            "fiorentina\n",
            "spezia\n",
            "lecce\n",
            "bologna\n",
            "verona\n",
            "cremonese\n",
            "samdoria\n"
          ]
        }
      ]
    },
    {
      "cell_type": "markdown",
      "source": [
        "16. visualizzare le squadre che hanno fatto tanti gol quanti ne hanno subiti"
      ],
      "metadata": {
        "id": "xfKz1Q1DaJ6x"
      }
    },
    {
      "cell_type": "code",
      "source": [
        "for i in range(len(differenzaReti)):\n",
        "  if differenzaReti[i] ==0:\n",
        "    print(squadre10[i])"
      ],
      "metadata": {
        "id": "ZR3qBDmxad95",
        "colab": {
          "base_uri": "https://localhost:8080/"
        },
        "outputId": "c3a536b9-645e-4e9b-c308-6b5144bf1d85"
      },
      "execution_count": 78,
      "outputs": [
        {
          "output_type": "stream",
          "name": "stdout",
          "text": [
            "sassuolo\n"
          ]
        }
      ]
    },
    {
      "cell_type": "markdown",
      "source": [
        "17. calcolare la somma delle differenze reti di tutte le squadre"
      ],
      "metadata": {
        "id": "tjnIm62canB6"
      }
    },
    {
      "cell_type": "code",
      "source": [
        "print(sum(differenzaReti))"
      ],
      "metadata": {
        "id": "jc__1facatut",
        "colab": {
          "base_uri": "https://localhost:8080/"
        },
        "outputId": "de4ed6db-ebfa-4661-c020-17c6a683c8ce"
      },
      "execution_count": 81,
      "outputs": [
        {
          "output_type": "stream",
          "name": "stdout",
          "text": [
            "0\n"
          ]
        }
      ]
    },
    {
      "cell_type": "markdown",
      "source": [
        "18. visualizzare le squadre della classifica che, se il campionato finisse oggi, sarebbero retrocesse. Scrivere il codice in modo che si possa utilizzare in qualunque giornata del campionato."
      ],
      "metadata": {
        "id": "euh8fSkcaueh"
      }
    },
    {
      "cell_type": "code",
      "source": [
        "print(squadre10[-3:])"
      ],
      "metadata": {
        "id": "cv7kI0sgbMnz",
        "colab": {
          "base_uri": "https://localhost:8080/"
        },
        "outputId": "7db3b329-f41f-48dc-ae0d-5daa7980e545"
      },
      "execution_count": 80,
      "outputs": [
        {
          "output_type": "stream",
          "name": "stdout",
          "text": [
            "['verona', 'cremonese', 'samdoria']\n"
          ]
        }
      ]
    }
  ]
}