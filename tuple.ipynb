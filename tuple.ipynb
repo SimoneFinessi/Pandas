{
  "nbformat": 4,
  "nbformat_minor": 0,
  "metadata": {
    "colab": {
      "provenance": [],
      "collapsed_sections": [],
      "authorship_tag": "ABX9TyOGK/wgJMakD6wYZVMYR4IE",
      "include_colab_link": true
    },
    "kernelspec": {
      "name": "python3",
      "display_name": "Python 3"
    },
    "language_info": {
      "name": "python"
    }
  },
  "cells": [
    {
      "cell_type": "markdown",
      "metadata": {
        "id": "view-in-github",
        "colab_type": "text"
      },
      "source": [
        "<a href=\"https://colab.research.google.com/github/SimoneFinessi/Python/blob/main/tuple.ipynb\" target=\"_parent\"><img src=\"https://colab.research.google.com/assets/colab-badge.svg\" alt=\"Open In Colab\"/></a>"
      ]
    },
    {
      "cell_type": "markdown",
      "source": [
        "Una tupla è una struttura dati ordinata e non modificabile.\n",
        "Si forma con le parentesi tonde"
      ],
      "metadata": {
        "id": "WlzLmIS0IjE-"
      }
    },
    {
      "cell_type": "code",
      "execution_count": null,
      "metadata": {
        "colab": {
          "base_uri": "https://localhost:8080/"
        },
        "id": "xrs6oTdqIhSZ",
        "outputId": "307aa693-a768-4dcc-daec-39d9b9270635"
      },
      "outputs": [
        {
          "output_type": "stream",
          "name": "stdout",
          "text": [
            "(1, 2, 3, 4, 5)\n"
          ]
        }
      ],
      "source": [
        "tupla1=(1,2,3,4,5)\n",
        "print(tupla1)"
      ]
    },
    {
      "cell_type": "markdown",
      "source": [
        "Gli elementi tuple sono ordinati, non modificabili e consentono valori duplicati. \n",
        "Sono indecizzate infatti il primo elemento della tuple ha valore di index \"0\""
      ],
      "metadata": {
        "id": "ipkJhBmCI_Nh"
      }
    },
    {
      "cell_type": "markdown",
      "source": [
        "Le tuple non sono modificabili, il che significa che non possiamo modificare, aggiungere o rimuovere elementi dopo che la tupla è stata creata."
      ],
      "metadata": {
        "id": "IwTzuVcvJVAO"
      }
    },
    {
      "cell_type": "markdown",
      "source": [
        "quindi se ci serisse un vettore non modificabile non useremmo list ma una tupla"
      ],
      "metadata": {
        "id": "xugJ-ADBOy_e"
      }
    },
    {
      "cell_type": "code",
      "source": [
        "tupla1.append(1) #non funziona perché non e modificabile"
      ],
      "metadata": {
        "id": "1LlJlKyiJVq7"
      },
      "execution_count": null,
      "outputs": []
    },
    {
      "cell_type": "markdown",
      "source": [
        "Per creare una tupla con un solo elemento, devi aggiungere una virgola dopo l'elemento"
      ],
      "metadata": {
        "id": "17w_dMJBJffa"
      }
    },
    {
      "cell_type": "code",
      "source": [
        "tupla2=(\"prova\",)\n",
        "print(type(tupla2))\n",
        "print(tupla2)\n",
        "tupla2=(\"prova\")\n",
        "print(type(tupla2))\n"
      ],
      "metadata": {
        "colab": {
          "base_uri": "https://localhost:8080/"
        },
        "id": "4GrFb8JrJkfd",
        "outputId": "caf093c8-8e6e-490d-d1be-6981309ba915"
      },
      "execution_count": null,
      "outputs": [
        {
          "output_type": "stream",
          "name": "stdout",
          "text": [
            "<class 'tuple'>\n",
            "('prova',)\n",
            "<class 'str'>\n"
          ]
        }
      ]
    },
    {
      "cell_type": "markdown",
      "source": [
        "puo cotenere tutti i tipi di dati, pure tutti insieme in ua sola tuple"
      ],
      "metadata": {
        "id": "3a8fc9BcJ2Kz"
      }
    },
    {
      "cell_type": "code",
      "source": [
        "tupla3=(\"ciao\", 1, True,2,\"hello\")\n",
        "print(tupla3)"
      ],
      "metadata": {
        "colab": {
          "base_uri": "https://localhost:8080/"
        },
        "id": "mhTnPFWrKCJU",
        "outputId": "6cf95d1a-7539-494f-e4b3-9fce433572d1"
      },
      "execution_count": null,
      "outputs": [
        {
          "output_type": "stream",
          "name": "stdout",
          "text": [
            "<class 'tuple'>\n",
            "('ciao', 1, True, 2, 'hello')\n"
          ]
        }
      ]
    },
    {
      "cell_type": "markdown",
      "source": [
        "si puo usare anche la funzione \"tuple()\" per crearne una "
      ],
      "metadata": {
        "id": "kR5O8doSKOyx"
      }
    },
    {
      "cell_type": "code",
      "source": [
        "prova=tuple((\"ciao\",24))\n",
        "print(prova)"
      ],
      "metadata": {
        "colab": {
          "base_uri": "https://localhost:8080/"
        },
        "id": "uhSPoWKZKakf",
        "outputId": "9a1f2581-4464-4dcd-be47-33337180f96c"
      },
      "execution_count": null,
      "outputs": [
        {
          "output_type": "stream",
          "name": "stdout",
          "text": [
            "<class 'tuple'>\n",
            "('ciao', 24)\n"
          ]
        }
      ]
    },
    {
      "cell_type": "markdown",
      "source": [
        "**esercizio**"
      ],
      "metadata": {
        "id": "ESPs7Z07KoZ7"
      }
    },
    {
      "cell_type": "markdown",
      "source": [
        "generare 20 numeri casuali non uguali che varino da 1 a 100, poi inserirli in un vettore adeguato che non sia modificabile."
      ],
      "metadata": {
        "id": "MkXAk5PwLajy"
      }
    },
    {
      "cell_type": "code",
      "source": [
        "import random\n",
        "tuple4=random.sample(range(1,100),20)\n",
        "tuple4=tuple(tuple4)\n",
        "print(tuple4)\n",
        "print(type(tuple4))"
      ],
      "metadata": {
        "colab": {
          "base_uri": "https://localhost:8080/"
        },
        "id": "kFSkqCyMPIUe",
        "outputId": "83b1775a-b3b5-4b2b-9c3b-5a67170ce1ed"
      },
      "execution_count": null,
      "outputs": [
        {
          "output_type": "stream",
          "name": "stdout",
          "text": [
            "(58, 44, 19, 18, 65, 42, 23, 28, 77, 87, 9, 43, 5, 8, 79, 74, 98, 78, 3, 21)\n",
            "<class 'tuple'>\n"
          ]
        }
      ]
    },
    {
      "cell_type": "markdown",
      "source": [
        "aggiungere i primi 3 cognomi della classe in posizioe 1 all precedente vettore"
      ],
      "metadata": {
        "id": "9XMr0Jm8Q9qK"
      }
    },
    {
      "cell_type": "code",
      "source": [
        "tuple4=list(tuple4)\n",
        "tuple4[0:0]=[\"avasiloae\",\"bernasconi\",\"cottone\"]\n",
        "tuple4=tuple(tuple4)\n",
        "print(tuple4)"
      ],
      "metadata": {
        "colab": {
          "base_uri": "https://localhost:8080/"
        },
        "id": "5VYarqbAUePu",
        "outputId": "ef451e51-d579-4ce4-b36a-de214a3eeeb9"
      },
      "execution_count": null,
      "outputs": [
        {
          "output_type": "stream",
          "name": "stdout",
          "text": [
            "('avasiloae', 'ernasconi', 'cottone', 58, 44, 19, 18, 65, 42, 23, 28, 77, 87, 9, 43, 5, 8, 79, 74, 98, 78, 3, 21)\n"
          ]
        }
      ]
    }
  ]
}