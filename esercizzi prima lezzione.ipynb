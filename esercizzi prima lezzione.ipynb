{
  "nbformat": 4,
  "nbformat_minor": 0,
  "metadata": {
    "colab": {
      "provenance": [],
      "include_colab_link": true
    },
    "kernelspec": {
      "name": "python3",
      "display_name": "Python 3"
    },
    "language_info": {
      "name": "python"
    }
  },
  "cells": [
    {
      "cell_type": "markdown",
      "metadata": {
        "id": "view-in-github",
        "colab_type": "text"
      },
      "source": [
        "<a href=\"https://colab.research.google.com/github/SimoneFinessi/Python/blob/main/esercizzi%20prima%20lezzione.ipynb\" target=\"_parent\"><img src=\"https://colab.research.google.com/assets/colab-badge.svg\" alt=\"Open In Colab\"/></a>"
      ]
    },
    {
      "cell_type": "markdown",
      "source": [
        "Scrivere al di sotto di ogni esercizio il codice richiesto. Al termine, consegnare su classroom il notebook realizzato."
      ],
      "metadata": {
        "id": "u24Wx-pXrz4j"
      }
    },
    {
      "cell_type": "markdown",
      "source": [
        "0. assegnare alle variabili x, y e z i valori 10, 20 e 30 in un'unica istruzione. Assegnare alle variabili a, b e c il valore 100 sempre in un'unica istruzione"
      ],
      "metadata": {
        "id": "ym0EsAfkyxmz"
      }
    },
    {
      "cell_type": "code",
      "source": [
        "from re import A\n",
        "a,b,c=10,20,30\n",
        "print(a,b,c)\n",
        "a=b=c=100\n",
        "print(a,b,c)"
      ],
      "metadata": {
        "id": "K6G4zgcCzAAz",
        "colab": {
          "base_uri": "https://localhost:8080/"
        },
        "outputId": "8fd9ee11-424a-4655-8ebf-b3cb1f24497f"
      },
      "execution_count": 48,
      "outputs": [
        {
          "output_type": "stream",
          "name": "stdout",
          "text": [
            "100 20 30\n",
            "100 100 100\n"
          ]
        }
      ]
    },
    {
      "cell_type": "markdown",
      "source": [
        "1. far inserire all'utente due numeri interi, scambiarli e visualizzarli"
      ],
      "metadata": {
        "id": "_w3ESGmCr7SL"
      }
    },
    {
      "cell_type": "code",
      "source": [
        "N1=int(input(\"inserisci un numero:\"))\n",
        "N2=int(input(\"inserisci un altro numero:\"))\n",
        "N1,N2=N2,N1\n",
        "\n",
        "print(N1,N2)"
      ],
      "metadata": {
        "id": "z5zHMYWlseti",
        "colab": {
          "base_uri": "https://localhost:8080/"
        },
        "outputId": "9439a627-58c1-422a-d9e4-1808a85a1375"
      },
      "execution_count": 50,
      "outputs": [
        {
          "output_type": "stream",
          "name": "stdout",
          "text": [
            "inserisci un numero:2\n",
            "inserisci un altro numero:3\n",
            "3 2\n"
          ]
        }
      ]
    },
    {
      "cell_type": "markdown",
      "source": [
        "2. far inserire all'utente due numeri e calcolare lìelevamento a potenza del primo per il secondo. Provare poi a vedere qualk è l amasisma potenza del 2 che Python riece a calcolare: lo smartphone è altrettanto potente?"
      ],
      "metadata": {
        "id": "dkojX3qusGJi"
      }
    },
    {
      "cell_type": "code",
      "source": [
        "numerodaelevare=int(input(\"inserisci il numero da alevare\"))\n",
        "numeroelevatore=int(input(\"inserisci il numero delle volte in cui va elevato\"))\n",
        "numerofinale=pow(numerodaelevare,numeroelevatore)\n",
        "print(numerofinale)\n",
        "\n",
        "\n"
      ],
      "metadata": {
        "id": "pYzftTyguOAc"
      },
      "execution_count": null,
      "outputs": []
    },
    {
      "cell_type": "markdown",
      "source": [
        "3. far inserire all'utente tre numeri e visualizzare il massimo dei tre"
      ],
      "metadata": {
        "id": "PYqK5w8yseCy"
      }
    },
    {
      "cell_type": "code",
      "source": [
        "3numero1=int(input(\"inserisci il primo numero:\"))\n",
        "numero2=int(input(\"inserisci il secondo numero:\"))\n",
        "numero3=int(input(\"inserisci il terzo numero:\"))\n",
        "Npiùgrande=max(numero1,numero2,numero3)\n",
        "print(Npiùgrande)\n",
        "\n"
      ],
      "metadata": {
        "id": "pJSumYgPsmAb"
      },
      "execution_count": null,
      "outputs": []
    },
    {
      "cell_type": "markdown",
      "source": [
        "4. dati tre numeri, dire se con quei tre numeri possiamo costruire un triangolo"
      ],
      "metadata": {
        "id": "sJJHEnXXsmeL"
      }
    },
    {
      "cell_type": "code",
      "source": [
        "numero1=int(input(\"inserisci il primo numero:\"))\n",
        "numero2=int(input(\"inserisci il secondo numero:\"))\n",
        "numero3=int(input(\"inserisci il terzo numero:\"))\n",
        "if (numero1 + numero2)>numero3 and (numero1 + numero3)>numero2 and (numero2 + numero3)>numero1:\n",
        "  print(\"si puo fare\")\n",
        "else:\n",
        " print(\"non si puo fare\") "
      ],
      "metadata": {
        "id": "u6iI2qeosvlS",
        "colab": {
          "base_uri": "https://localhost:8080/"
        },
        "outputId": "0adc7905-9451-486e-9dcc-114584033f84"
      },
      "execution_count": 55,
      "outputs": [
        {
          "output_type": "stream",
          "name": "stdout",
          "text": [
            "inserisci il primo numero:3\n",
            "inserisci il secondo numero:4\n",
            "inserisci il terzo numero:5\n",
            "si puo fare\n"
          ]
        }
      ]
    },
    {
      "cell_type": "markdown",
      "source": [
        "5. far inserire dall'utente le misure di due cateti di un triangolo rettangolo (valori reali) e calcolare l'area del rettangolo e l'ipotenusa"
      ],
      "metadata": {
        "id": "zeDmm2t9sxER"
      }
    },
    {
      "cell_type": "code",
      "source": [
        "cateto1=int(input(\"inserisci il primo cateto:\"))\n",
        "cateto2=int(input(\"inserisci il secondo cateto:\"))\n",
        "somma=pow(cateto1,2) +pow(cateto2,2)\n",
        "ipotenusa=pow(somma,1/2)\n",
        "print(ipotenusa)\n",
        "\n",
        "\n"
      ],
      "metadata": {
        "id": "MJ2jzq4PtSti",
        "colab": {
          "base_uri": "https://localhost:8080/"
        },
        "outputId": "2288bc8b-3aa5-4e37-9094-2b909b0a0fef"
      },
      "execution_count": 14,
      "outputs": [
        {
          "output_type": "stream",
          "name": "stdout",
          "text": [
            "inserisci il primo cateto:4\n",
            "inserisci il secondo cateto:3\n",
            "5.0\n"
          ]
        }
      ]
    },
    {
      "cell_type": "markdown",
      "source": [
        "6. far inserire un numero intero dall'utente e dire se è pari o dispari"
      ],
      "metadata": {
        "id": "64dgOKMRtTDq"
      }
    },
    {
      "cell_type": "code",
      "source": [
        "numero=int(input(\"inserisci un numero: \"))\n",
        "if numero % 2 == 0:\n",
        "    print(\"pari\")\n",
        "else:\n",
        "    print(\"dispari\")"
      ],
      "metadata": {
        "id": "W7fI6Ej8t8Z6",
        "colab": {
          "base_uri": "https://localhost:8080/"
        },
        "outputId": "3a0e1207-f8a5-44f9-b992-b46e55bf8c33"
      },
      "execution_count": 15,
      "outputs": [
        {
          "output_type": "stream",
          "name": "stdout",
          "text": [
            "inserisci il primo cateto:3\n",
            "dispari\n"
          ]
        }
      ]
    },
    {
      "cell_type": "markdown",
      "source": [
        "7. far inserire all'utente il valore di una temperatura in gradi centigradi e convertirlo in gradi fahrenheit"
      ],
      "metadata": {
        "id": "V16n7CsCuUXC"
      }
    },
    {
      "cell_type": "code",
      "source": [
        "gradi=int(input(\"inserisci una temperatora in gradi: \"))\n",
        "F=(gradi *(9/5))+32\n",
        "print(F)\n",
        "\n"
      ],
      "metadata": {
        "id": "DUlV468iuhE7",
        "colab": {
          "base_uri": "https://localhost:8080/"
        },
        "outputId": "f68fe815-2691-4c61-eb2d-26fa12452f49"
      },
      "execution_count": 26,
      "outputs": [
        {
          "output_type": "stream",
          "name": "stdout",
          "text": [
            "inserisci una temperatora in gradi: 7\n",
            "44.6\n"
          ]
        }
      ]
    },
    {
      "cell_type": "markdown",
      "source": [
        "8. far inserire all'utente il valore di una temperatura in fahrenheit e convertirlo in gradi  gradi centigradi"
      ],
      "metadata": {
        "id": "TRbh4pEwuher"
      }
    },
    {
      "cell_type": "code",
      "source": [
        "F=float(input(\"inserisci una temperatora in fahrenheit: \"))\n",
        "C=(F-32)*(5/9)\n",
        "print(C)\n"
      ],
      "metadata": {
        "id": "CNwCDAIFup-K"
      },
      "execution_count": null,
      "outputs": []
    },
    {
      "cell_type": "markdown",
      "source": [
        "9. far inserire all'utente una velocità in Km/h e visualizzare la stessa velocità in metri al secondo"
      ],
      "metadata": {
        "id": "YRjS88gtuqeC"
      }
    },
    {
      "cell_type": "code",
      "source": [
        "velocità=float(input(\"inserisci una velocita in km/h: \"))\n",
        "ms=velocità/3.6\n",
        "print(ms)\n"
      ],
      "metadata": {
        "id": "Wricx3yyx3tb",
        "colab": {
          "base_uri": "https://localhost:8080/"
        },
        "outputId": "a2dec6b7-a567-4255-b7ef-4808cdb61d1d"
      },
      "execution_count": 27,
      "outputs": [
        {
          "output_type": "stream",
          "name": "stdout",
          "text": [
            "inserisci una velocita in km/h: 10\n",
            "2.7777777777777777\n"
          ]
        }
      ]
    },
    {
      "cell_type": "markdown",
      "source": [
        "10. far inserire all'utente il raggio di un cerchio e visualizzarne il diametro e l'area"
      ],
      "metadata": {
        "id": "ltgIq2OGx4I7"
      }
    },
    {
      "cell_type": "code",
      "source": [
        "import math\n",
        "\n",
        "raggio=float(input(\"inserisci il raggio di un cerchio:  \"))\n",
        "area=math.pi*pow(raggio,2)\n",
        "print(\"area: \",area)\n",
        "diametro= raggio *2\n",
        "print(\"diametro: \",diametro)\n"
      ],
      "metadata": {
        "id": "BpbAnnUOzjGD",
        "colab": {
          "base_uri": "https://localhost:8080/"
        },
        "outputId": "d98a82c7-d1d0-490e-c2d0-6054de578f11"
      },
      "execution_count": 56,
      "outputs": [
        {
          "output_type": "stream",
          "name": "stdout",
          "text": [
            "inserisci il raggio di un cerchio:  3\n",
            "area:  28.274333882308138\n",
            "diametro:  6.0\n"
          ]
        }
      ]
    },
    {
      "cell_type": "markdown",
      "source": [
        "11. far inserire all'utente il suo nome e poi il suo cognome e visualizzare il suo cognome e il suo nome separati da uno spazio"
      ],
      "metadata": {
        "id": "M18Obb-Gzjdq"
      }
    },
    {
      "cell_type": "code",
      "source": [
        "nome=str(input(\"inserisci il tuo nome \"))\n",
        "cognome=str(input(\"inserisci il tuo cognome \"))\n",
        "print(cognome,\" \",nome)\n"
      ],
      "metadata": {
        "id": "w2C_ln0LzwPa",
        "colab": {
          "base_uri": "https://localhost:8080/"
        },
        "outputId": "335e672f-5c4a-4091-f366-41b339cf3e46"
      },
      "execution_count": 30,
      "outputs": [
        {
          "output_type": "stream",
          "name": "stdout",
          "text": [
            "inserisci il tuo nome simone\n",
            "inserisci il tuo cognome finessi\n",
            "finessi   simone\n"
          ]
        }
      ]
    },
    {
      "cell_type": "markdown",
      "source": [
        "12. far inserire all'utente un numero e visualizzare il suo valore assoluto"
      ],
      "metadata": {
        "id": "BS9gBYBUzwp7"
      }
    },
    {
      "cell_type": "code",
      "source": [
        "numero1=float(input(\"inserisci un numero \"))\n",
        "print(abs(numero1))\n"
      ],
      "metadata": {
        "id": "KOZrphgUz89a"
      },
      "execution_count": null,
      "outputs": []
    },
    {
      "cell_type": "markdown",
      "source": [
        "13. far inserire all'utente un voto e controllare che sia compreso tra 1 e 10, estremi inclusi, Se è compreso visualizzare la stringa 'OK' altrimenti visualizzare la stringa 'KO'"
      ],
      "metadata": {
        "id": "j1tl_8INz9ZS"
      }
    },
    {
      "cell_type": "code",
      "source": [
        "voto=float(input(\"inserisci un numero \"))\n",
        "if voto<=10 and voto>=1:\n",
        "  print(\"ok\")\n",
        "else:\n",
        "  print(\"KO\")"
      ],
      "metadata": {
        "id": "7Cgqx9K20ccr",
        "colab": {
          "base_uri": "https://localhost:8080/"
        },
        "outputId": "93ef1cdf-3763-4a7c-fbb8-6748b1dd6c7b"
      },
      "execution_count": 35,
      "outputs": [
        {
          "output_type": "stream",
          "name": "stdout",
          "text": [
            "inserisci un numero 12\n",
            "KO\n"
          ]
        }
      ]
    },
    {
      "cell_type": "markdown",
      "source": [
        "14. far inserire all'utente due numeri e dire se uno è multiplo dell'altro. Ad esempio se l'utente inserisse i valori 60 e 15 il programma dovrebbe visualizzare la stringa '60 è un multiplo di 15'. Stessa cosa se l'utente inserisse prima il 15 e poi il 60., Se non sono multipli, visualizzare un messaggio appropriato"
      ],
      "metadata": {
        "id": "3PIY9PvH0c06"
      }
    },
    {
      "cell_type": "code",
      "source": [
        "numero1=float(input(\"inserisci un numero \"))\n",
        "numero2=float(input(\"inserisci un numero \"))\n",
        "piùgrande=max(numero1,numero2)\n",
        "piùpiccolo=min(numero1,numero2)\n",
        "if piùgrande % piùpiccolo ==0:\n",
        "  print(piùgrande,\"è multiplo di\", piùpiccolo)\n",
        "else:\n",
        "  print(\"non è multiplo\")\n"
      ],
      "metadata": {
        "id": "VS8xJJQZ1FfS"
      },
      "execution_count": null,
      "outputs": []
    },
    {
      "cell_type": "markdown",
      "source": [
        "15. far inserire all'utente la durata di un periodi di tempo in ore, minuti e secondi e convertirlo in secondi"
      ],
      "metadata": {
        "id": "444w9p761F7j"
      }
    },
    {
      "cell_type": "code",
      "source": [
        "h=float(input(\"inserisci ore \"))\n",
        "M=float(input(\"inserisci minuti \"))\n",
        "s=float(input(\"inserisci secondi \"))\n",
        "sh=(h*60)*60\n",
        "sM=M*60\n",
        "stot=sh+sM+s\n",
        "print(stot)\n"
      ],
      "metadata": {
        "id": "S0xfdzxW1ijl"
      },
      "execution_count": null,
      "outputs": []
    },
    {
      "cell_type": "markdown",
      "source": [
        "16. far inserire all'utente la durata di un periodo in secondi e convertirlo in ore, minuti e secondi"
      ],
      "metadata": {
        "id": "3KaGzt4U1jA7"
      }
    },
    {
      "cell_type": "code",
      "source": [
        "s=int(input(\"inserisci secondi \"))\n",
        "h=int(s/3600)\n",
        "print(h)\n",
        "s=s-(h*3600)\n",
        "m=int(s/60)\n",
        "print(m)\n",
        "s=s-(m*60)\n",
        "print(h,\":\",m,\":\",s)\n",
        "\n"
      ],
      "metadata": {
        "id": "wAwF6xB-10YD"
      },
      "execution_count": null,
      "outputs": []
    }
  ]
}