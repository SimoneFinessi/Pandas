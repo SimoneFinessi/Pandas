{
  "nbformat": 4,
  "nbformat_minor": 0,
  "metadata": {
    "colab": {
      "provenance": [],
      "collapsed_sections": [],
      "authorship_tag": "ABX9TyMmew9YMC5H3oeBotRH9s9o",
      "include_colab_link": true
    },
    "kernelspec": {
      "name": "python3",
      "display_name": "Python 3"
    },
    "language_info": {
      "name": "python"
    }
  },
  "cells": [
    {
      "cell_type": "markdown",
      "metadata": {
        "id": "view-in-github",
        "colab_type": "text"
      },
      "source": [
        "<a href=\"https://colab.research.google.com/github/SimoneFinessi/Python/blob/main/corezioni_es_tuple.ipynb\" target=\"_parent\"><img src=\"https://colab.research.google.com/assets/colab-badge.svg\" alt=\"Open In Colab\"/></a>"
      ]
    },
    {
      "cell_type": "markdown",
      "source": [
        "generare 20 numeri casuali non uguali che varino da 1 a 100, poi inserirli in un vettore adeguato che non sia modificabile."
      ],
      "metadata": {
        "id": "YswnG0AALobx"
      }
    },
    {
      "cell_type": "code",
      "execution_count": null,
      "metadata": {
        "id": "5ive8dY6LmNq"
      },
      "outputs": [],
      "source": [
        "import random\n",
        "tuple4=random.sample(range(1,100),20)\n",
        "tuple4=tuple(tuple4)\n",
        "print(tuple4)\n",
        "print(type(tuple4))"
      ]
    },
    {
      "cell_type": "markdown",
      "source": [
        "aggiungere i primi 3 cognomi della classe in posizioe 1 all precedente vettore"
      ],
      "metadata": {
        "id": "hgm93iSiLril"
      }
    },
    {
      "cell_type": "code",
      "source": [
        "tuple4=list(tuple4)\n",
        "tuple4[0:0]=[\"avasiloae\",\"bernasconi\",\"cottone\"]\n",
        "tuple4=tuple(tuple4)\n",
        "print(tuple4)"
      ],
      "metadata": {
        "id": "D0vHDGToLr3o"
      },
      "execution_count": null,
      "outputs": []
    },
    {
      "cell_type": "code",
      "source": [],
      "metadata": {
        "id": "IapxdHM2MPrK"
      },
      "execution_count": null,
      "outputs": []
    }
  ]
}