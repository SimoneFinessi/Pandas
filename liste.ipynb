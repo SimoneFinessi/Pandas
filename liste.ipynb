{
  "nbformat": 4,
  "nbformat_minor": 0,
  "metadata": {
    "colab": {
      "provenance": [],
      "collapsed_sections": [],
      "include_colab_link": true
    },
    "kernelspec": {
      "name": "python3",
      "display_name": "Python 3"
    },
    "language_info": {
      "name": "python"
    }
  },
  "cells": [
    {
      "cell_type": "markdown",
      "metadata": {
        "id": "view-in-github",
        "colab_type": "text"
      },
      "source": [
        "<a href=\"https://colab.research.google.com/github/SimoneFinessi/Python/blob/main/liste.ipynb\" target=\"_parent\"><img src=\"https://colab.research.google.com/assets/colab-badge.svg\" alt=\"Open In Colab\"/></a>"
      ]
    },
    {
      "cell_type": "markdown",
      "source": [
        "liste"
      ],
      "metadata": {
        "id": "6aPYg6A741RW"
      }
    },
    {
      "cell_type": "code",
      "execution_count": null,
      "metadata": {
        "id": "G2UFXg7V2ZJf"
      },
      "outputs": [],
      "source": [
        "a=[]\n",
        "a=input(\"\")\n",
        "print(a)\n"
      ]
    },
    {
      "cell_type": "code",
      "source": [
        "b=[1,2,3,4,5,6,7,8,9,10]\n",
        "print(b)"
      ],
      "metadata": {
        "id": "MmD9uku75FrA"
      },
      "execution_count": null,
      "outputs": []
    },
    {
      "cell_type": "code",
      "source": [
        "type(b)\n"
      ],
      "metadata": {
        "id": "7aAw2xfc5eyo"
      },
      "execution_count": null,
      "outputs": []
    },
    {
      "cell_type": "code",
      "source": [
        "c=[12,\"pippo\",37.42,\"pluto\",[\"qui\",\"quo\",[8,12,24],\"qua\"],58]\n",
        "print(c[4][2][2])"
      ],
      "metadata": {
        "colab": {
          "base_uri": "https://localhost:8080/"
        },
        "id": "AYfAhiax6GOI",
        "outputId": "8612979a-59d7-408d-f6fa-6a82e1f99e6e"
      },
      "execution_count": null,
      "outputs": [
        {
          "output_type": "stream",
          "name": "stdout",
          "text": [
            "24\n"
          ]
        }
      ]
    },
    {
      "cell_type": "markdown",
      "source": [
        "dando al valore di print -1 si va  atrovare l'ultimo elemento della lista"
      ],
      "metadata": {
        "id": "nPzi8_yR8n5A"
      }
    },
    {
      "cell_type": "code",
      "source": [
        "d=[0,1,2,3,4,5,6,7,8,9,10]\n",
        "print(d[-1])\n"
      ],
      "metadata": {
        "colab": {
          "base_uri": "https://localhost:8080/"
        },
        "id": "jBPN1N8g7pMF",
        "outputId": "761b5d2a-7cb4-4d5a-aa87-583edd40b342"
      },
      "execution_count": null,
      "outputs": [
        {
          "output_type": "stream",
          "name": "stdout",
          "text": [
            "10\n"
          ]
        }
      ]
    },
    {
      "cell_type": "code",
      "source": [
        "#slicing slitta la lista in due solo nella print\n",
        "#visulaizzare gli elementi dal 3 al 6\n",
        "print(d[3:7])\n",
        "print(d[-5:])\n",
        "print(d[0:5])\n",
        "#visualizzazione del penultimo e terzultimo numero\n",
        "print(d[-3:-1])\n",
        "\n",
        "print(d[2:9:2])\n",
        "print(d[::2])\n",
        "\n"
      ],
      "metadata": {
        "colab": {
          "base_uri": "https://localhost:8080/"
        },
        "id": "ShuV9Npg81o9",
        "outputId": "78e7d63b-4b22-487f-ef03-9eeb8e44461a"
      },
      "execution_count": null,
      "outputs": [
        {
          "output_type": "stream",
          "name": "stdout",
          "text": [
            "[3, 4, 5, 6]\n",
            "[6, 7, 8, 9, 10]\n",
            "[0, 1, 2, 3, 4]\n",
            "[8, 9]\n",
            "[2, 4, 6, 8]\n",
            "[0, 3, 6, 9]\n"
          ]
        }
      ]
    },
    {
      "cell_type": "code",
      "source": [
        "#lunghezza listaù\n",
        "len(d)"
      ],
      "metadata": {
        "id": "5xCJpH5hADYh"
      },
      "execution_count": null,
      "outputs": []
    },
    {
      "cell_type": "markdown",
      "source": [
        "min trova il numero minore , max quello maggiore e SUM la somma"
      ],
      "metadata": {
        "id": "jWjrvU-cAOzt"
      }
    },
    {
      "cell_type": "code",
      "source": [
        "1 in d "
      ],
      "metadata": {
        "colab": {
          "base_uri": "https://localhost:8080/"
        },
        "id": "iBuEQKDNAZzs",
        "outputId": "7811196c-c12e-47aa-d6c6-13b30ef9c63e"
      },
      "execution_count": null,
      "outputs": [
        {
          "output_type": "execute_result",
          "data": {
            "text/plain": [
              "False"
            ]
          },
          "metadata": {},
          "execution_count": 47
        }
      ]
    },
    {
      "cell_type": "code",
      "source": [
        "stringa=\"la mamma e bella\"\n",
        "lista=list(stringa)\n",
        "print(lista)\n",
        "\n",
        "e=[0,1,2,3,4,5,6,7,8,9,10]\n",
        "e.append([2])\n",
        "#append appende una lista add dentro un'altra lista\n",
        "\n",
        "print(e)\n"
      ],
      "metadata": {
        "colab": {
          "base_uri": "https://localhost:8080/"
        },
        "id": "sTOcsrzcA7-l",
        "outputId": "30fbc6ee-1bb8-445a-90e3-9477c80ee7d5"
      },
      "execution_count": null,
      "outputs": [
        {
          "output_type": "stream",
          "name": "stdout",
          "text": [
            "['l', 'a', ' ', 'm', 'a', 'm', 'm', 'a', ' ', 'e', ' ', 'b', 'e', 'l', 'l', 'a']\n",
            "[0, 1, 2, 3, 4, 5, 6, 7, 8, 9, 10, [2]]\n"
          ]
        }
      ]
    },
    {
      "cell_type": "code",
      "source": [
        "q=[0,1,2,3,4,5,6,7,8,9,10]\n",
        "#extende aggiunge eleenti ad una lista gia esistente\n",
        "q.extend([11,12,13,14])\n",
        "print(q)"
      ],
      "metadata": {
        "colab": {
          "base_uri": "https://localhost:8080/"
        },
        "id": "Dpm6yOPmB2bq",
        "outputId": "1ff19d7c-6338-4056-dcb9-a83d288c0bc5"
      },
      "execution_count": null,
      "outputs": [
        {
          "output_type": "stream",
          "name": "stdout",
          "text": [
            "[0, 1, 2, 3, 4, 5, 6, 7, 8, 9, 10, 11, 12, 13, 14]\n"
          ]
        }
      ]
    },
    {
      "cell_type": "code",
      "source": [
        "lista1=[8, 17,-5,4,76,9,2]\n",
        "print(lista1[0])\n",
        "print(lista1[-1])\n",
        "print(lista1[len(lista1)-1])"
      ],
      "metadata": {
        "colab": {
          "base_uri": "https://localhost:8080/"
        },
        "id": "JRGazlQHr8mx",
        "outputId": "b46cf810-df40-4625-e47c-e01056081810"
      },
      "execution_count": 10,
      "outputs": [
        {
          "output_type": "stream",
          "name": "stdout",
          "text": [
            "8\n",
            "2\n",
            "2\n"
          ]
        }
      ]
    },
    {
      "cell_type": "code",
      "source": [
        "#aggiungere i valori 7 4 8 9 alla lista\n",
        "lista1.extend([7, 4, 8, 9])\n",
        "print(lista1)"
      ],
      "metadata": {
        "id": "F1yESz2Zszew",
        "outputId": "5d1d33a6-622f-43c8-ae6c-6a9ba7a60495",
        "colab": {
          "base_uri": "https://localhost:8080/"
        }
      },
      "execution_count": 11,
      "outputs": [
        {
          "output_type": "stream",
          "name": "stdout",
          "text": [
            "[8, 17, -5, 4, 76, 9, 2, 7, 4, 8, 9]\n"
          ]
        }
      ]
    },
    {
      "cell_type": "code",
      "source": [
        "lista1.sort()\n",
        "print(lista1)"
      ],
      "metadata": {
        "id": "K2Ga7hcDtcxv",
        "outputId": "598e3506-e76d-4d4b-e7fc-ac91d3045089",
        "colab": {
          "base_uri": "https://localhost:8080/"
        }
      },
      "execution_count": 13,
      "outputs": [
        {
          "output_type": "stream",
          "name": "stdout",
          "text": [
            "[-5, 2, 4, 4, 7, 8, 8, 9, 9, 17, 76]\n"
          ]
        }
      ]
    },
    {
      "cell_type": "code",
      "source": [
        "#lista1.remove(8)\n",
        "print(lista1)\n",
        "lista1=list(filter((9).__ne__,lista1 ))\n",
        "print(lista1)"
      ],
      "metadata": {
        "id": "Sf3J14hCuaqm",
        "outputId": "313c418e-5ccf-46b6-8542-16435c3cb62b",
        "colab": {
          "base_uri": "https://localhost:8080/"
        }
      },
      "execution_count": 24,
      "outputs": [
        {
          "output_type": "stream",
          "name": "stdout",
          "text": [
            "[-5, 4, 4, 7, 9, 9, 17, 76]\n",
            "[-5, 4, 4, 7, 17, 76]\n"
          ]
        }
      ]
    }
  ]
}