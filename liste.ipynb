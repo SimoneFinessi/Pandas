{
  "nbformat": 4,
  "nbformat_minor": 0,
  "metadata": {
    "colab": {
      "provenance": [],
      "collapsed_sections": [],
      "include_colab_link": true
    },
    "kernelspec": {
      "name": "python3",
      "display_name": "Python 3"
    },
    "language_info": {
      "name": "python"
    }
  },
  "cells": [
    {
      "cell_type": "markdown",
      "metadata": {
        "id": "view-in-github",
        "colab_type": "text"
      },
      "source": [
        "<a href=\"https://colab.research.google.com/github/SimoneFinessi/Python/blob/main/liste.ipynb\" target=\"_parent\"><img src=\"https://colab.research.google.com/assets/colab-badge.svg\" alt=\"Open In Colab\"/></a>"
      ]
    },
    {
      "cell_type": "markdown",
      "source": [
        "liste"
      ],
      "metadata": {
        "id": "6aPYg6A741RW"
      }
    },
    {
      "cell_type": "code",
      "execution_count": null,
      "metadata": {
        "id": "G2UFXg7V2ZJf"
      },
      "outputs": [],
      "source": [
        "a=[]\n",
        "a=input(\"\")\n",
        "print(a)\n"
      ]
    },
    {
      "cell_type": "code",
      "source": [
        "b=[1,2,3,4,5,6,7,8,9,10]\n",
        "print(b)"
      ],
      "metadata": {
        "id": "MmD9uku75FrA"
      },
      "execution_count": null,
      "outputs": []
    },
    {
      "cell_type": "code",
      "source": [
        "type(b)\n"
      ],
      "metadata": {
        "id": "7aAw2xfc5eyo"
      },
      "execution_count": null,
      "outputs": []
    },
    {
      "cell_type": "code",
      "source": [
        "c=[12,\"pippo\",37.42,\"pluto\",[\"qui\",\"quo\",[8,12,24],\"qua\"],58]\n",
        "print(c[4][2][2])"
      ],
      "metadata": {
        "colab": {
          "base_uri": "https://localhost:8080/"
        },
        "id": "AYfAhiax6GOI",
        "outputId": "8612979a-59d7-408d-f6fa-6a82e1f99e6e"
      },
      "execution_count": null,
      "outputs": [
        {
          "output_type": "stream",
          "name": "stdout",
          "text": [
            "24\n"
          ]
        }
      ]
    },
    {
      "cell_type": "markdown",
      "source": [
        "dando al valore di print -1 si va  atrovare l'ultimo elemento della lista"
      ],
      "metadata": {
        "id": "nPzi8_yR8n5A"
      }
    },
    {
      "cell_type": "code",
      "source": [
        "d=[0,1,2,3,4,5,6,7,8,9,10]\n",
        "print(d[-1])\n"
      ],
      "metadata": {
        "colab": {
          "base_uri": "https://localhost:8080/"
        },
        "id": "jBPN1N8g7pMF",
        "outputId": "761b5d2a-7cb4-4d5a-aa87-583edd40b342"
      },
      "execution_count": null,
      "outputs": [
        {
          "output_type": "stream",
          "name": "stdout",
          "text": [
            "10\n"
          ]
        }
      ]
    },
    {
      "cell_type": "code",
      "source": [
        "#slicing slitta la lista in due solo nella print\n",
        "#visulaizzare gli elementi dal 3 al 6\n",
        "print(d[3:7])\n",
        "print(d[-5:])\n",
        "print(d[0:5])\n",
        "#visualizzazione del penultimo e terzultimo numero\n",
        "print(d[-3:-1])\n",
        "\n",
        "print(d[2:9:2])\n",
        "print(d[::2])\n",
        "\n"
      ],
      "metadata": {
        "colab": {
          "base_uri": "https://localhost:8080/"
        },
        "id": "ShuV9Npg81o9",
        "outputId": "78e7d63b-4b22-487f-ef03-9eeb8e44461a"
      },
      "execution_count": null,
      "outputs": [
        {
          "output_type": "stream",
          "name": "stdout",
          "text": [
            "[3, 4, 5, 6]\n",
            "[6, 7, 8, 9, 10]\n",
            "[0, 1, 2, 3, 4]\n",
            "[8, 9]\n",
            "[2, 4, 6, 8]\n",
            "[0, 3, 6, 9]\n"
          ]
        }
      ]
    },
    {
      "cell_type": "code",
      "source": [
        "#lunghezza listaù\n",
        "len(d)"
      ],
      "metadata": {
        "id": "5xCJpH5hADYh"
      },
      "execution_count": null,
      "outputs": []
    },
    {
      "cell_type": "markdown",
      "source": [
        "min trova il numero minore , max quello maggiore e SUM la somma"
      ],
      "metadata": {
        "id": "jWjrvU-cAOzt"
      }
    },
    {
      "cell_type": "code",
      "source": [
        "1 in d "
      ],
      "metadata": {
        "colab": {
          "base_uri": "https://localhost:8080/"
        },
        "id": "iBuEQKDNAZzs",
        "outputId": "7811196c-c12e-47aa-d6c6-13b30ef9c63e"
      },
      "execution_count": null,
      "outputs": [
        {
          "output_type": "execute_result",
          "data": {
            "text/plain": [
              "False"
            ]
          },
          "metadata": {},
          "execution_count": 47
        }
      ]
    },
    {
      "cell_type": "code",
      "source": [
        "stringa=\"la mamma e bella\"\n",
        "lista=list(stringa)\n",
        "print(lista)\n",
        "\n",
        "e=[0,1,2,3,4,5,6,7,8,9,10]\n",
        "e.append([2])\n",
        "#append appende una lista add dentro un'altra lista\n",
        "\n",
        "print(e)\n"
      ],
      "metadata": {
        "colab": {
          "base_uri": "https://localhost:8080/"
        },
        "id": "sTOcsrzcA7-l",
        "outputId": "30fbc6ee-1bb8-445a-90e3-9477c80ee7d5"
      },
      "execution_count": null,
      "outputs": [
        {
          "output_type": "stream",
          "name": "stdout",
          "text": [
            "['l', 'a', ' ', 'm', 'a', 'm', 'm', 'a', ' ', 'e', ' ', 'b', 'e', 'l', 'l', 'a']\n",
            "[0, 1, 2, 3, 4, 5, 6, 7, 8, 9, 10, [2]]\n"
          ]
        }
      ]
    },
    {
      "cell_type": "code",
      "source": [
        "q=[0,1,2,3,4,5,6,7,8,9,10]\n",
        "#extende aggiunge eleenti ad una lista gia esistente\n",
        "q.extend([11,12,13,14])\n",
        "print(q)"
      ],
      "metadata": {
        "colab": {
          "base_uri": "https://localhost:8080/"
        },
        "id": "Dpm6yOPmB2bq",
        "outputId": "1ff19d7c-6338-4056-dcb9-a83d288c0bc5"
      },
      "execution_count": null,
      "outputs": [
        {
          "output_type": "stream",
          "name": "stdout",
          "text": [
            "[0, 1, 2, 3, 4, 5, 6, 7, 8, 9, 10, 11, 12, 13, 14]\n"
          ]
        }
      ]
    },
    {
      "cell_type": "code",
      "source": [
        "lista1=[8, 17,-5,4,76,9,2]\n",
        "print(lista1[0])\n",
        "print(lista1[-1])\n",
        "print(lista1[len(lista1)-1])"
      ],
      "metadata": {
        "colab": {
          "base_uri": "https://localhost:8080/"
        },
        "id": "JRGazlQHr8mx",
        "outputId": "b46cf810-df40-4625-e47c-e01056081810"
      },
      "execution_count": null,
      "outputs": [
        {
          "output_type": "stream",
          "name": "stdout",
          "text": [
            "8\n",
            "2\n",
            "2\n"
          ]
        }
      ]
    },
    {
      "cell_type": "code",
      "source": [
        "#aggiungere i valori 7 4 8 9 alla lista\n",
        "lista1.extend([7, 4, 8, 9])\n",
        "print(lista1)"
      ],
      "metadata": {
        "colab": {
          "base_uri": "https://localhost:8080/"
        },
        "id": "F1yESz2Zszew",
        "outputId": "5d1d33a6-622f-43c8-ae6c-6a9ba7a60495"
      },
      "execution_count": null,
      "outputs": [
        {
          "output_type": "stream",
          "name": "stdout",
          "text": [
            "[8, 17, -5, 4, 76, 9, 2, 7, 4, 8, 9]\n"
          ]
        }
      ]
    },
    {
      "cell_type": "code",
      "source": [
        "lista1.sort()\n",
        "print(lista1)"
      ],
      "metadata": {
        "colab": {
          "base_uri": "https://localhost:8080/"
        },
        "id": "K2Ga7hcDtcxv",
        "outputId": "598e3506-e76d-4d4b-e7fc-ac91d3045089"
      },
      "execution_count": null,
      "outputs": [
        {
          "output_type": "stream",
          "name": "stdout",
          "text": [
            "[-5, 2, 4, 4, 7, 8, 8, 9, 9, 17, 76]\n"
          ]
        }
      ]
    },
    {
      "cell_type": "code",
      "source": [
        "#lista1.remove(8)\n",
        "print(lista1)\n",
        "lista1=list(filter((9).__ne__,lista1 ))\n",
        "print(lista1)"
      ],
      "metadata": {
        "colab": {
          "base_uri": "https://localhost:8080/"
        },
        "id": "Sf3J14hCuaqm",
        "outputId": "313c418e-5ccf-46b6-8542-16435c3cb62b"
      },
      "execution_count": null,
      "outputs": [
        {
          "output_type": "stream",
          "name": "stdout",
          "text": [
            "[-5, 4, 4, 7, 9, 9, 17, 76]\n",
            "[-5, 4, 4, 7, 17, 76]\n"
          ]
        }
      ]
    },
    {
      "cell_type": "code",
      "source": [
        "#contare il numero di volte che compare il numero 9\n",
        "quanti=lista1.count(4)\n"
      ],
      "metadata": {
        "id": "-XmygJ1o23d7"
      },
      "execution_count": null,
      "outputs": []
    },
    {
      "cell_type": "code",
      "source": [
        "\n",
        "print(lista1)\n",
        "posizione=lista1.index(4)"
      ],
      "metadata": {
        "colab": {
          "base_uri": "https://localhost:8080/"
        },
        "id": "aQJ73puJ3bl3",
        "outputId": "6638f8cb-d313-4213-cea2-d624f6d90aa4"
      },
      "execution_count": null,
      "outputs": [
        {
          "output_type": "stream",
          "name": "stdout",
          "text": [
            "[-5, 0, 0, 4, 4, 7, 17, 76]\n"
          ]
        }
      ]
    },
    {
      "cell_type": "code",
      "source": [
        "#inserire 0 alla fine dei 4\n",
        "lista1.insert(posizione +quanti, 0)\n",
        "\n",
        "print(lista1)"
      ],
      "metadata": {
        "colab": {
          "base_uri": "https://localhost:8080/"
        },
        "id": "tb7KMDdH3xhv",
        "outputId": "ac9e1b52-4da6-4bc0-bbcf-6ef3c28e94c9"
      },
      "execution_count": null,
      "outputs": [
        {
          "output_type": "stream",
          "name": "stdout",
          "text": [
            "[-5, 0, 0, 4, 4, 0, 7, 17, 76]\n"
          ]
        }
      ]
    },
    {
      "cell_type": "code",
      "source": [
        "lista1.pop(4)\n",
        "print(lista1)"
      ],
      "metadata": {
        "colab": {
          "base_uri": "https://localhost:8080/"
        },
        "id": "vEDtyz9k5Jqq",
        "outputId": "2ea2448a-415d-4ffc-e312-95b4b255b46b"
      },
      "execution_count": null,
      "outputs": [
        {
          "output_type": "stream",
          "name": "stdout",
          "text": [
            "[-5, 0, 4, 0, 17]\n"
          ]
        }
      ]
    },
    {
      "cell_type": "code",
      "source": [
        "lista=[5,7,9,2]\n",
        "lista2=lista\n",
        "print(lista)\n",
        "print(lista2)\n",
        "lista.pop()\n",
        "print(lista)\n",
        "print(lista2)\n"
      ],
      "metadata": {
        "colab": {
          "base_uri": "https://localhost:8080/"
        },
        "id": "3QJ1mSYq5cYB",
        "outputId": "815c1c66-3835-470a-d30b-25372659e8e2"
      },
      "execution_count": null,
      "outputs": [
        {
          "output_type": "stream",
          "name": "stdout",
          "text": [
            "[5, 7, 9, 2]\n",
            "[5, 7, 9, 2]\n",
            "[5, 7, 9]\n",
            "[5, 7, 9]\n"
          ]
        }
      ]
    },
    {
      "cell_type": "markdown",
      "source": [
        "1. inizializzare una lista con i seguenti numeri 8,18,27,-8,51,40,-9-76.\n",
        "2. aggiungere in fondo alla lista i valori 7,4,95.\n",
        "3. aggiungere all'inizio della lista i valori7,4,95.\n",
        "4. visualizzare il numero di elementi della lista.\n",
        "5. aggiungere in quarta posizione il valore 100.\n",
        "6. eliminare il 3 ultimo eleento della lisat.\n",
        "7. visualizzare il valore massimo,minimo nella lista.\n",
        "8. calcolare la somma degli emementi della lisat.\n",
        "9. claoclare la media degli elementi nella lisat.\n",
        "10. rimuovere dalla lisat il numero 7.\n",
        "11. ordinare la lista in ordine decrescente.\n",
        "12. eliminare dalla lisat il numero piu alto e quello piu basso.\n",
        "13. visualizzare gli eleenti di piosto parie quelli di posto dispari.\n",
        "14. visualizzare i primi 5 elementi.\n",
        "15. visualizzare gli ukltimi 5 elementi.\n",
        "16. visualizzare i 5 elementi centrali.\n",
        "18. rimuovere i duplicati preseti nella lista."
      ],
      "metadata": {
        "id": "cJ1Rvc6w7toH"
      }
    },
    {
      "cell_type": "code",
      "source": [
        "lista=[8, 18, 27, -8, 51, 40, -9, -76]\n",
        "lista.extend([7, 4, 95])\n",
        "lista=[7,4,95]+lista \n",
        "\n",
        "print(lista)\n"
      ],
      "metadata": {
        "id": "otXdpM659ZPi",
        "outputId": "1e67c70e-17b8-4504-ce93-ff7affe432ca",
        "colab": {
          "base_uri": "https://localhost:8080/"
        }
      },
      "execution_count": 2,
      "outputs": [
        {
          "output_type": "stream",
          "name": "stdout",
          "text": [
            "[7, 4, 95, 8, 18, 27, -8, 51, 40, -9, -76, 7, 4, 95]\n"
          ]
        }
      ]
    },
    {
      "cell_type": "code",
      "source": [
        "print(len(lista))\n"
      ],
      "metadata": {
        "id": "eB8nJNUH-Ef3",
        "outputId": "cefc508e-d667-42dc-96c9-78f892425018",
        "colab": {
          "base_uri": "https://localhost:8080/"
        }
      },
      "execution_count": 3,
      "outputs": [
        {
          "output_type": "stream",
          "name": "stdout",
          "text": [
            "14\n"
          ]
        }
      ]
    },
    {
      "cell_type": "code",
      "source": [
        "lista.insert(0,100)\n",
        "print(lista)"
      ],
      "metadata": {
        "id": "A2s-RqP5-Vyl",
        "outputId": "c349b58a-d027-4d55-9666-307f3d59b158",
        "colab": {
          "base_uri": "https://localhost:8080/"
        }
      },
      "execution_count": 4,
      "outputs": [
        {
          "output_type": "stream",
          "name": "stdout",
          "text": [
            "[100, 7, 4, 95, 8, 18, 27, -8, 51, 40, -9, -76, 7, 4, 95]\n"
          ]
        }
      ]
    },
    {
      "cell_type": "code",
      "source": [
        "lista.pop(-3)\n",
        "print(lista)"
      ],
      "metadata": {
        "id": "yum96d1O-sVJ",
        "outputId": "19c5d213-2136-4ee5-82a8-cacb2c25ba6d",
        "colab": {
          "base_uri": "https://localhost:8080/"
        }
      },
      "execution_count": 5,
      "outputs": [
        {
          "output_type": "stream",
          "name": "stdout",
          "text": [
            "[100, 7, 4, 95, 8, 18, 27, -8, 51, 40, -9, -76, 4, 95]\n"
          ]
        }
      ]
    },
    {
      "cell_type": "code",
      "source": [
        "print(max(lista))\n",
        "print(min(lista))\n",
        "print(lista)"
      ],
      "metadata": {
        "id": "8jBkG8ng-9Y1",
        "outputId": "1c654eb4-92a5-431b-a83b-7c055018020a",
        "colab": {
          "base_uri": "https://localhost:8080/"
        }
      },
      "execution_count": 6,
      "outputs": [
        {
          "output_type": "stream",
          "name": "stdout",
          "text": [
            "100\n",
            "-76\n",
            "[100, 7, 4, 95, 8, 18, 27, -8, 51, 40, -9, -76, 4, 95]\n"
          ]
        }
      ]
    },
    {
      "cell_type": "code",
      "source": [
        "somma=sum(lista)\n",
        "print(somma)\n",
        "print(lista)"
      ],
      "metadata": {
        "id": "r91Dr81v_vQF",
        "outputId": "4d9727ac-cb05-44e8-bf1d-69c48f0d813a",
        "colab": {
          "base_uri": "https://localhost:8080/"
        }
      },
      "execution_count": 7,
      "outputs": [
        {
          "output_type": "stream",
          "name": "stdout",
          "text": [
            "356\n",
            "[100, 7, 4, 95, 8, 18, 27, -8, 51, 40, -9, -76, 4, 95]\n"
          ]
        }
      ]
    },
    {
      "cell_type": "code",
      "source": [
        "media=somma/len(lista)\n",
        "print(media)\n",
        "print(lista)"
      ],
      "metadata": {
        "id": "TAmzq0pg_4Bm",
        "outputId": "4d52bb12-efea-4090-9045-e3ec10bbd8c1",
        "colab": {
          "base_uri": "https://localhost:8080/"
        }
      },
      "execution_count": 8,
      "outputs": [
        {
          "output_type": "stream",
          "name": "stdout",
          "text": [
            "25.428571428571427\n",
            "[100, 7, 4, 95, 8, 18, 27, -8, 51, 40, -9, -76, 4, 95]\n"
          ]
        }
      ]
    },
    {
      "cell_type": "code",
      "source": [
        "lista=list(filter((7).__ne__,lista ))\n",
        "print(lista)"
      ],
      "metadata": {
        "id": "S-gq5xYeAGuk",
        "outputId": "666e0251-b4f8-468a-8741-3c04f7c2f91c",
        "colab": {
          "base_uri": "https://localhost:8080/"
        }
      },
      "execution_count": 9,
      "outputs": [
        {
          "output_type": "stream",
          "name": "stdout",
          "text": [
            "[100, 4, 95, 8, 18, 27, -8, 51, 40, -9, -76, 4, 95]\n"
          ]
        }
      ]
    },
    {
      "cell_type": "code",
      "source": [
        "lista.sort()\n",
        "lista.reverse()\n",
        "print(lista)"
      ],
      "metadata": {
        "id": "amxQuNgzAoMU",
        "outputId": "c8f39327-3437-4e77-ae7d-9a5f03e35a26",
        "colab": {
          "base_uri": "https://localhost:8080/"
        }
      },
      "execution_count": 10,
      "outputs": [
        {
          "output_type": "stream",
          "name": "stdout",
          "text": [
            "[100, 95, 95, 51, 40, 27, 18, 8, 4, 4, -8, -9, -76]\n"
          ]
        }
      ]
    },
    {
      "cell_type": "code",
      "source": [
        "lista.remove(max(lista))\n",
        "lista.remove(min(lista))\n",
        "print(lista)"
      ],
      "metadata": {
        "id": "WyaOeCqRA68j",
        "outputId": "6e7e9489-0ebf-4967-8c2f-4eadb727a481",
        "colab": {
          "base_uri": "https://localhost:8080/"
        }
      },
      "execution_count": 11,
      "outputs": [
        {
          "output_type": "stream",
          "name": "stdout",
          "text": [
            "[95, 95, 51, 40, 27, 18, 8, 4, 4, -8, -9]\n"
          ]
        }
      ]
    },
    {
      "cell_type": "code",
      "source": [
        "print()\n",
        "for i in range (len(lista)):\n",
        "  if lista[i] %2==0:\n",
        "    print(lista[i])\n",
        "#non nel esercizzio  "
      ],
      "metadata": {
        "id": "LpmU1j5OBHKz"
      },
      "execution_count": null,
      "outputs": []
    },
    {
      "cell_type": "code",
      "source": [
        "for i in range (len(lista)):\n",
        "  if lista[i] %2!=0:\n",
        "   print(lista[i])\n",
        "#non nel esercizzio  "
      ],
      "metadata": {
        "id": "KTEqkqS1Cs-f"
      },
      "execution_count": null,
      "outputs": []
    },
    {
      "cell_type": "code",
      "source": [
        "print(lista[::2])\n",
        "print(lista[1::3])"
      ],
      "metadata": {
        "id": "KO4hQFmjDFDi",
        "outputId": "1f94ad5b-2222-4889-feb1-c362cb7617ef",
        "colab": {
          "base_uri": "https://localhost:8080/"
        }
      },
      "execution_count": 13,
      "outputs": [
        {
          "output_type": "stream",
          "name": "stdout",
          "text": [
            "[95, 51, 27, 8, 4, -9]\n",
            "[95, 27, 4, -9]\n"
          ]
        }
      ]
    },
    {
      "cell_type": "code",
      "source": [
        "print(lista[0:5])"
      ],
      "metadata": {
        "id": "ghFN2wkEHcKK",
        "outputId": "ea88dcc0-e390-414d-fde8-71f2372ab0e5",
        "colab": {
          "base_uri": "https://localhost:8080/"
        }
      },
      "execution_count": 14,
      "outputs": [
        {
          "output_type": "stream",
          "name": "stdout",
          "text": [
            "[95, 95, 51, 40, 27]\n"
          ]
        }
      ]
    },
    {
      "cell_type": "code",
      "source": [
        "print(lista[-5:])"
      ],
      "metadata": {
        "id": "ylW1LM3TH3-R"
      },
      "execution_count": null,
      "outputs": []
    },
    {
      "cell_type": "code",
      "source": [
        "meta=int(len(lista)/2)\n",
        "print(lista[meta-2:meta+3])"
      ],
      "metadata": {
        "id": "4lJp32S-IKcP",
        "outputId": "cdfd92cb-d4c1-4608-c205-2070340c5200",
        "colab": {
          "base_uri": "https://localhost:8080/"
        }
      },
      "execution_count": 23,
      "outputs": [
        {
          "output_type": "stream",
          "name": "stdout",
          "text": [
            "[40, 27, 18, 8, 4]\n"
          ]
        }
      ]
    },
    {
      "cell_type": "code",
      "source": [
        "lista=list(dict.fromkeys(lista))\n",
        "print(lista)"
      ],
      "metadata": {
        "id": "FgG8ZHNEI4uc",
        "outputId": "b4fd4a54-55d4-4e9c-8db6-2ee6568ffeaa",
        "colab": {
          "base_uri": "https://localhost:8080/"
        }
      },
      "execution_count": 24,
      "outputs": [
        {
          "output_type": "stream",
          "name": "stdout",
          "text": [
            "[95, 51, 40, 27, 18, 8, 4, -8, -9]\n"
          ]
        }
      ]
    }
  ]
}