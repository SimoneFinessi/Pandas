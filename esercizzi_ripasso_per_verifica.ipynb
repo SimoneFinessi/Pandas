{
  "nbformat": 4,
  "nbformat_minor": 0,
  "metadata": {
    "colab": {
      "provenance": [],
      "authorship_tag": "ABX9TyOcNXo8Jmz05bhAnxmw5+/Q",
      "include_colab_link": true
    },
    "kernelspec": {
      "name": "python3",
      "display_name": "Python 3"
    },
    "language_info": {
      "name": "python"
    }
  },
  "cells": [
    {
      "cell_type": "markdown",
      "metadata": {
        "id": "view-in-github",
        "colab_type": "text"
      },
      "source": [
        "<a href=\"https://colab.research.google.com/github/SimoneFinessi/Python/blob/main/esercizzi_ripasso_per_verifica.ipynb\" target=\"_parent\"><img src=\"https://colab.research.google.com/assets/colab-badge.svg\" alt=\"Open In Colab\"/></a>"
      ]
    },
    {
      "cell_type": "markdown",
      "source": [
        " inserire i dati in strutture dati opportune"
      ],
      "metadata": {
        "id": "I3fP3eE2XrRF"
      }
    },
    {
      "cell_type": "code",
      "execution_count": 2,
      "metadata": {
        "id": "cYGBmamuSESf"
      },
      "outputs": [],
      "source": [
        "nomi=[\"Luca\", \"Carlo\", \"Maria\", \"Angela\", \"Stefano\", \"Davide\"]\n",
        "altezza=[1.80, 1.67, 1.75, 1.68, 1.81, 1.78 ]\n",
        "kg=[77, 48, 81, 55, 90, 70]\n",
        "\n"
      ]
    },
    {
      "cell_type": "markdown",
      "source": [
        "2) far inserire all'utente un nome e fornire il peso e l'altezza dello studente inserito"
      ],
      "metadata": {
        "id": "14jquVIFXsHR"
      }
    },
    {
      "cell_type": "code",
      "source": [
        "nomeinserito=input(\"inserisci un nome fra Luca, Carlo, Maria, Angela, Stefano e Davide:\")\n",
        "try:\n",
        " posizione=nomi.index(nomeinserito)\n",
        " print(altezza[posizione],\"m\",kg[posizione],\"Kg\")\n",
        "except:\n",
        " print(\"scrivi il nome con la lettera maiuscola\")"
      ],
      "metadata": {
        "id": "TYvITzwQSqYR"
      },
      "execution_count": null,
      "outputs": []
    },
    {
      "cell_type": "markdown",
      "source": [
        "visualizzare il nome dello studente più alto"
      ],
      "metadata": {
        "id": "6kgRwjmvXwF7"
      }
    },
    {
      "cell_type": "code",
      "source": [
        "print(\"il più alto e:\", nomi[altezza.index(max(altezza))])\n"
      ],
      "metadata": {
        "colab": {
          "base_uri": "https://localhost:8080/"
        },
        "id": "vg-RLXCVUKHr",
        "outputId": "c0f7b379-ce5b-4a34-b935-03448286b7b5"
      },
      "execution_count": 9,
      "outputs": [
        {
          "output_type": "stream",
          "name": "stdout",
          "text": [
            "il più alto e: Stefano\n"
          ]
        }
      ]
    },
    {
      "cell_type": "markdown",
      "source": [
        "visualizzare il nome dello studente più magro"
      ],
      "metadata": {
        "id": "fZwZM_Z-XzrB"
      }
    },
    {
      "cell_type": "code",
      "source": [
        "print(\"il più magro e:\", nomi[kg.index(min(kg))])"
      ],
      "metadata": {
        "colab": {
          "base_uri": "https://localhost:8080/"
        },
        "id": "rbGRhaL5UlYp",
        "outputId": "bb884b8d-2d0a-4413-808c-9f47360b43c2"
      },
      "execution_count": 10,
      "outputs": [
        {
          "output_type": "stream",
          "name": "stdout",
          "text": [
            "il più magro e: Carlo\n"
          ]
        }
      ]
    },
    {
      "cell_type": "markdown",
      "source": [
        " far inserire il nome di uno studente e calcolare il suo IMC"
      ],
      "metadata": {
        "id": "l8N3nI2qX1uv"
      }
    },
    {
      "cell_type": "code",
      "source": [
        "nomeinserito=input(\"inserisci un nome fra Luca, Carlo, Maria, Angela, Stefano e Davide:\")\n",
        "\n",
        "imc= kg[nomi.index(nomeinserito)]/pow(altezza[nomi.index(nomeinserito)],2)\n",
        "print(imc)"
      ],
      "metadata": {
        "colab": {
          "base_uri": "https://localhost:8080/"
        },
        "id": "QoJ49FggVYAx",
        "outputId": "acd5ddc5-0068-4563-917e-523b7af96246"
      },
      "execution_count": 12,
      "outputs": [
        {
          "output_type": "stream",
          "name": "stdout",
          "text": [
            "inserisci un nome fra Luca, Carlo, Maria, Angela, Stefano e Davide:Luca\n",
            "23.76543209876543\n"
          ]
        }
      ]
    },
    {
      "cell_type": "markdown",
      "source": [
        "calcolare il peso medio degli studenti"
      ],
      "metadata": {
        "id": "e4VUXikTX4FC"
      }
    },
    {
      "cell_type": "code",
      "source": [
        "from statistics import mean\n",
        "print(mean(kg))\n"
      ],
      "metadata": {
        "colab": {
          "base_uri": "https://localhost:8080/"
        },
        "id": "BriTtFVnWUU4",
        "outputId": "60eda150-cd9d-4911-b770-4fa28d4cd3e1"
      },
      "execution_count": 13,
      "outputs": [
        {
          "output_type": "stream",
          "name": "stdout",
          "text": [
            "70.16666666666667\n"
          ]
        }
      ]
    },
    {
      "cell_type": "markdown",
      "source": [
        "visualizzare il numero di studenti"
      ],
      "metadata": {
        "id": "ju0SRHWGX6Dw"
      }
    },
    {
      "cell_type": "code",
      "source": [
        "len(nomi)"
      ],
      "metadata": {
        "colab": {
          "base_uri": "https://localhost:8080/"
        },
        "id": "bDqM4GQpWe3u",
        "outputId": "eaa58198-fe92-45b9-c8f3-756294154101"
      },
      "execution_count": 14,
      "outputs": [
        {
          "output_type": "execute_result",
          "data": {
            "text/plain": [
              "6"
            ]
          },
          "metadata": {},
          "execution_count": 14
        }
      ]
    },
    {
      "cell_type": "markdown",
      "source": [
        " aggiungere lo studente Marco che pesa 76 Kg ed è alto 1.90"
      ],
      "metadata": {
        "id": "v9ekGXQeX79P"
      }
    },
    {
      "cell_type": "code",
      "source": [
        "nomi.append(\"marco\")\n",
        "kg.append(76)\n",
        "altezza.append(1.90)\n"
      ],
      "metadata": {
        "id": "46V8pQpsWmU8"
      },
      "execution_count": 16,
      "outputs": []
    },
    {
      "cell_type": "markdown",
      "source": [
        "eliminare le informazioni riguardanti Maria"
      ],
      "metadata": {
        "id": "p18jm_h3X9yL"
      }
    },
    {
      "cell_type": "code",
      "source": [
        "try:\n",
        " nomi.pop(nomi.index(\"Maria\"))\n",
        " kg.pop(nomi.index(\"Maria\"))\n",
        " altezza.pop(nomi.index(\"Maria\"))\n",
        "except:\n",
        "  print(\"Maria e gia stata tolta\")\n",
        "print(nomi)"
      ],
      "metadata": {
        "colab": {
          "base_uri": "https://localhost:8080/"
        },
        "id": "KPbom1HnWyqz",
        "outputId": "fd45a2c6-df55-4fd0-bde1-5c14e294f7b7"
      },
      "execution_count": 17,
      "outputs": [
        {
          "output_type": "stream",
          "name": "stdout",
          "text": [
            "Maria e gia stata tolta\n",
            "['Luca', 'Carlo', 'Angela', 'Stefano', 'Davide', 'marco']\n"
          ]
        }
      ]
    }
  ]
}